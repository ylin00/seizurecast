{
 "cells": [
  {
   "cell_type": "markdown",
   "metadata": {},
   "source": [
    "# Random Forest Classifier"
   ]
  },
  {
   "cell_type": "markdown",
   "metadata": {},
   "source": [
    "This notebook contains exploration of the effects of different parameters to the outcome of a random forest classifier. "
   ]
  },
  {
   "cell_type": "markdown",
   "metadata": {},
   "source": [
    "Read Xy.pkl and create SQL table features_clf"
   ]
  },
  {
   "cell_type": "code",
   "execution_count": 1,
   "metadata": {},
   "outputs": [],
   "source": [
    "import sys\n",
    "sys.path.append('..')\n",
    "from seizurecast.models.pipeline import Pipeline, Config\n",
    "\n",
    "import numpy as np\n",
    "import pandas as pd\n",
    "\n",
    "pipeline = Pipeline(Config())"
   ]
  },
  {
   "cell_type": "code",
   "execution_count": 2,
   "metadata": {},
   "outputs": [
    {
     "data": {
      "text/html": [
       "<div>\n",
       "<style scoped>\n",
       "    .dataframe tbody tr th:only-of-type {\n",
       "        vertical-align: middle;\n",
       "    }\n",
       "\n",
       "    .dataframe tbody tr th {\n",
       "        vertical-align: top;\n",
       "    }\n",
       "\n",
       "    .dataframe thead th {\n",
       "        text-align: right;\n",
       "    }\n",
       "</style>\n",
       "<table border=\"1\" class=\"dataframe\">\n",
       "  <thead>\n",
       "    <tr style=\"text-align: right;\">\n",
       "      <th></th>\n",
       "      <th>index</th>\n",
       "      <th>0</th>\n",
       "      <th>1</th>\n",
       "      <th>2</th>\n",
       "      <th>3</th>\n",
       "      <th>4</th>\n",
       "      <th>5</th>\n",
       "      <th>6</th>\n",
       "      <th>7</th>\n",
       "      <th>8</th>\n",
       "      <th>9</th>\n",
       "      <th>10</th>\n",
       "      <th>11</th>\n",
       "      <th>12</th>\n",
       "      <th>13</th>\n",
       "      <th>14</th>\n",
       "      <th>15</th>\n",
       "      <th>label</th>\n",
       "    </tr>\n",
       "  </thead>\n",
       "  <tbody>\n",
       "    <tr>\n",
       "      <th>0</th>\n",
       "      <td>0</td>\n",
       "      <td>127.024759</td>\n",
       "      <td>69.546526</td>\n",
       "      <td>133.429728</td>\n",
       "      <td>75.579342</td>\n",
       "      <td>163.903390</td>\n",
       "      <td>86.561749</td>\n",
       "      <td>143.570808</td>\n",
       "      <td>53.153084</td>\n",
       "      <td>9.247431</td>\n",
       "      <td>8.734929</td>\n",
       "      <td>10.004829</td>\n",
       "      <td>10.836674</td>\n",
       "      <td>8.470147</td>\n",
       "      <td>12.550170</td>\n",
       "      <td>9.305133</td>\n",
       "      <td>10.220588</td>\n",
       "      <td>bckg</td>\n",
       "    </tr>\n",
       "    <tr>\n",
       "      <th>1</th>\n",
       "      <td>1</td>\n",
       "      <td>125.250078</td>\n",
       "      <td>67.183994</td>\n",
       "      <td>127.434964</td>\n",
       "      <td>77.281340</td>\n",
       "      <td>128.198433</td>\n",
       "      <td>66.344477</td>\n",
       "      <td>192.241251</td>\n",
       "      <td>68.802898</td>\n",
       "      <td>8.126782</td>\n",
       "      <td>8.490380</td>\n",
       "      <td>12.304529</td>\n",
       "      <td>11.684079</td>\n",
       "      <td>9.290573</td>\n",
       "      <td>9.912028</td>\n",
       "      <td>12.568496</td>\n",
       "      <td>12.651338</td>\n",
       "      <td>bckg</td>\n",
       "    </tr>\n",
       "    <tr>\n",
       "      <th>2</th>\n",
       "      <td>2</td>\n",
       "      <td>118.398407</td>\n",
       "      <td>103.558887</td>\n",
       "      <td>217.767268</td>\n",
       "      <td>110.263221</td>\n",
       "      <td>259.158859</td>\n",
       "      <td>94.618777</td>\n",
       "      <td>282.728322</td>\n",
       "      <td>91.828163</td>\n",
       "      <td>9.295707</td>\n",
       "      <td>10.862188</td>\n",
       "      <td>10.157833</td>\n",
       "      <td>10.618830</td>\n",
       "      <td>7.604622</td>\n",
       "      <td>7.939252</td>\n",
       "      <td>9.940667</td>\n",
       "      <td>9.570230</td>\n",
       "      <td>bckg</td>\n",
       "    </tr>\n",
       "    <tr>\n",
       "      <th>3</th>\n",
       "      <td>3</td>\n",
       "      <td>146.201855</td>\n",
       "      <td>73.323898</td>\n",
       "      <td>143.239389</td>\n",
       "      <td>94.063935</td>\n",
       "      <td>250.564918</td>\n",
       "      <td>82.789087</td>\n",
       "      <td>190.061045</td>\n",
       "      <td>83.145690</td>\n",
       "      <td>7.629506</td>\n",
       "      <td>8.055133</td>\n",
       "      <td>9.518876</td>\n",
       "      <td>9.070108</td>\n",
       "      <td>9.717384</td>\n",
       "      <td>10.508075</td>\n",
       "      <td>9.833249</td>\n",
       "      <td>9.648492</td>\n",
       "      <td>bckg</td>\n",
       "    </tr>\n",
       "    <tr>\n",
       "      <th>4</th>\n",
       "      <td>4</td>\n",
       "      <td>73.529885</td>\n",
       "      <td>51.142607</td>\n",
       "      <td>79.946733</td>\n",
       "      <td>60.309404</td>\n",
       "      <td>89.267631</td>\n",
       "      <td>45.180769</td>\n",
       "      <td>111.289420</td>\n",
       "      <td>62.992251</td>\n",
       "      <td>7.774465</td>\n",
       "      <td>8.232175</td>\n",
       "      <td>9.160430</td>\n",
       "      <td>8.521743</td>\n",
       "      <td>7.123599</td>\n",
       "      <td>9.732174</td>\n",
       "      <td>7.268022</td>\n",
       "      <td>9.429459</td>\n",
       "      <td>bckg</td>\n",
       "    </tr>\n",
       "  </tbody>\n",
       "</table>\n",
       "</div>"
      ],
      "text/plain": [
       "   index           0           1           2           3           4  \\\n",
       "0      0  127.024759   69.546526  133.429728   75.579342  163.903390   \n",
       "1      1  125.250078   67.183994  127.434964   77.281340  128.198433   \n",
       "2      2  118.398407  103.558887  217.767268  110.263221  259.158859   \n",
       "3      3  146.201855   73.323898  143.239389   94.063935  250.564918   \n",
       "4      4   73.529885   51.142607   79.946733   60.309404   89.267631   \n",
       "\n",
       "           5           6          7         8          9         10  \\\n",
       "0  86.561749  143.570808  53.153084  9.247431   8.734929  10.004829   \n",
       "1  66.344477  192.241251  68.802898  8.126782   8.490380  12.304529   \n",
       "2  94.618777  282.728322  91.828163  9.295707  10.862188  10.157833   \n",
       "3  82.789087  190.061045  83.145690  7.629506   8.055133   9.518876   \n",
       "4  45.180769  111.289420  62.992251  7.774465   8.232175   9.160430   \n",
       "\n",
       "          11        12         13         14         15 label  \n",
       "0  10.836674  8.470147  12.550170   9.305133  10.220588  bckg  \n",
       "1  11.684079  9.290573   9.912028  12.568496  12.651338  bckg  \n",
       "2  10.618830  7.604622   7.939252   9.940667   9.570230  bckg  \n",
       "3   9.070108  9.717384  10.508075   9.833249   9.648492  bckg  \n",
       "4   8.521743  7.123599   9.732174   7.268022   9.429459  bckg  "
      ]
     },
     "execution_count": 2,
     "metadata": {},
     "output_type": "execute_result"
    }
   ],
   "source": [
    "from seizurecast.postgresql import SQLengine\n",
    "pd.read_sql('select * from features_clf limit 10', SQLengine).head()"
   ]
  },
  {
   "cell_type": "markdown",
   "metadata": {},
   "source": [
    "## Load data and run optimized RF model"
   ]
  },
  {
   "cell_type": "code",
   "execution_count": 3,
   "metadata": {},
   "outputs": [
    {
     "name": "stdout",
     "output_type": "stream",
     "text": [
      "Collected 3068 data points\n",
      "Recall\t Base: 1.0\t Test: 0.57\t Train: 0.56\n",
      "Precis\t Base: 0.49\t Test: 0.58\t Train: 0.56\n",
      "Roc\t Base: 0.5\t Test: 0.61\t Train: 0.58\n",
      "Recall\t Base: 1.0\t Test: 0.73\t Train: 0.71\n",
      "Precis\t Base: 0.49\t Test: 0.61\t Train: 0.63\n",
      "Roc\t Base: 0.5\t Test: 0.71\t Train: 0.71\n",
      "Recall\t Base: 1.0\t Test: 0.87\t Train: 1.0\n",
      "Precis\t Base: 0.49\t Test: 0.93\t Train: 1.0\n",
      "Roc\t Base: 0.5\t Test: 0.95\t Train: 1.0\n"
     ]
    }
   ],
   "source": [
    "pipeline.load_xy_sql('features_clf', SQLengine)\n",
    "pipeline.load_default_models()\n",
    "pipeline.pipe()"
   ]
  },
  {
   "cell_type": "markdown",
   "metadata": {},
   "source": [
    "### Check ROC"
   ]
  },
  {
   "cell_type": "code",
   "execution_count": 5,
   "metadata": {},
   "outputs": [
    {
     "data": {
      "image/png": "[encoded data removed]",
      "text/plain": [
       "<Figure size 432x324 with 1 Axes>"
      ]
     },
     "metadata": {
      "needs_background": "light"
     },
     "output_type": "display_data"
    }
   ],
   "source": [
    "def plot():\n",
    "    import matplotlib.pyplot as plt\n",
    "    # Plot formatting\n",
    "    plt.figure(figsize=(4*1.5, 3*1.5))\n",
    "    plt.rcParams['font.size'] = 14\n",
    "    plt.rcParams['font.family'] = 'Helvetica'\n",
    "    #plt.style.use('fivethirtyeight')\n",
    "\n",
    "    # Plot all curves\n",
    "    for model, result in pipeline.results.results.items():\n",
    "        plt.plot(result.base_fpr, result.base_tpr, 'k',\n",
    "                 label=model+' baseline')\n",
    "        plt.plot(result.model_fpr, result.model_tpr, linewidth=4,\n",
    "                 label=model+' model')\n",
    "#     plt.legend();\n",
    "    plt.xlabel('False Positive Rate');\n",
    "    plt.ylabel('True Positive Rate');\n",
    "    plt.title('ROC Curves');\n",
    "    plt.show();\n",
    "plot()"
   ]
  },
  {
   "cell_type": "code",
   "execution_count": 7,
   "metadata": {},
   "outputs": [
    {
     "data": {
      "text/html": [
       "<div>\n",
       "<style scoped>\n",
       "    .dataframe tbody tr th:only-of-type {\n",
       "        vertical-align: middle;\n",
       "    }\n",
       "\n",
       "    .dataframe tbody tr th {\n",
       "        vertical-align: top;\n",
       "    }\n",
       "\n",
       "    .dataframe thead th {\n",
       "        text-align: right;\n",
       "    }\n",
       "</style>\n",
       "<table border=\"1\" class=\"dataframe\">\n",
       "  <thead>\n",
       "    <tr style=\"text-align: right;\">\n",
       "      <th></th>\n",
       "      <th>index</th>\n",
       "      <th>0</th>\n",
       "      <th>1</th>\n",
       "      <th>2</th>\n",
       "      <th>3</th>\n",
       "      <th>4</th>\n",
       "      <th>5</th>\n",
       "      <th>6</th>\n",
       "      <th>7</th>\n",
       "      <th>8</th>\n",
       "      <th>9</th>\n",
       "      <th>10</th>\n",
       "      <th>11</th>\n",
       "      <th>12</th>\n",
       "      <th>13</th>\n",
       "      <th>14</th>\n",
       "      <th>15</th>\n",
       "      <th>label</th>\n",
       "    </tr>\n",
       "  </thead>\n",
       "  <tbody>\n",
       "    <tr>\n",
       "      <th>0</th>\n",
       "      <td>0</td>\n",
       "      <td>127.024759</td>\n",
       "      <td>69.546526</td>\n",
       "      <td>133.429728</td>\n",
       "      <td>75.579342</td>\n",
       "      <td>163.903390</td>\n",
       "      <td>86.561749</td>\n",
       "      <td>143.570808</td>\n",
       "      <td>53.153084</td>\n",
       "      <td>9.247431</td>\n",
       "      <td>8.734929</td>\n",
       "      <td>10.004829</td>\n",
       "      <td>10.836674</td>\n",
       "      <td>8.470147</td>\n",
       "      <td>12.550170</td>\n",
       "      <td>9.305133</td>\n",
       "      <td>10.220588</td>\n",
       "      <td>bckg</td>\n",
       "    </tr>\n",
       "    <tr>\n",
       "      <th>1</th>\n",
       "      <td>1</td>\n",
       "      <td>125.250078</td>\n",
       "      <td>67.183994</td>\n",
       "      <td>127.434964</td>\n",
       "      <td>77.281340</td>\n",
       "      <td>128.198433</td>\n",
       "      <td>66.344477</td>\n",
       "      <td>192.241251</td>\n",
       "      <td>68.802898</td>\n",
       "      <td>8.126782</td>\n",
       "      <td>8.490380</td>\n",
       "      <td>12.304529</td>\n",
       "      <td>11.684079</td>\n",
       "      <td>9.290573</td>\n",
       "      <td>9.912028</td>\n",
       "      <td>12.568496</td>\n",
       "      <td>12.651338</td>\n",
       "      <td>bckg</td>\n",
       "    </tr>\n",
       "    <tr>\n",
       "      <th>2</th>\n",
       "      <td>2</td>\n",
       "      <td>118.398407</td>\n",
       "      <td>103.558887</td>\n",
       "      <td>217.767268</td>\n",
       "      <td>110.263221</td>\n",
       "      <td>259.158859</td>\n",
       "      <td>94.618777</td>\n",
       "      <td>282.728322</td>\n",
       "      <td>91.828163</td>\n",
       "      <td>9.295707</td>\n",
       "      <td>10.862188</td>\n",
       "      <td>10.157833</td>\n",
       "      <td>10.618830</td>\n",
       "      <td>7.604622</td>\n",
       "      <td>7.939252</td>\n",
       "      <td>9.940667</td>\n",
       "      <td>9.570230</td>\n",
       "      <td>bckg</td>\n",
       "    </tr>\n",
       "    <tr>\n",
       "      <th>3</th>\n",
       "      <td>3</td>\n",
       "      <td>146.201855</td>\n",
       "      <td>73.323898</td>\n",
       "      <td>143.239389</td>\n",
       "      <td>94.063935</td>\n",
       "      <td>250.564918</td>\n",
       "      <td>82.789087</td>\n",
       "      <td>190.061045</td>\n",
       "      <td>83.145690</td>\n",
       "      <td>7.629506</td>\n",
       "      <td>8.055133</td>\n",
       "      <td>9.518876</td>\n",
       "      <td>9.070108</td>\n",
       "      <td>9.717384</td>\n",
       "      <td>10.508075</td>\n",
       "      <td>9.833249</td>\n",
       "      <td>9.648492</td>\n",
       "      <td>bckg</td>\n",
       "    </tr>\n",
       "    <tr>\n",
       "      <th>4</th>\n",
       "      <td>4</td>\n",
       "      <td>73.529885</td>\n",
       "      <td>51.142607</td>\n",
       "      <td>79.946733</td>\n",
       "      <td>60.309404</td>\n",
       "      <td>89.267631</td>\n",
       "      <td>45.180769</td>\n",
       "      <td>111.289420</td>\n",
       "      <td>62.992251</td>\n",
       "      <td>7.774465</td>\n",
       "      <td>8.232175</td>\n",
       "      <td>9.160430</td>\n",
       "      <td>8.521743</td>\n",
       "      <td>7.123599</td>\n",
       "      <td>9.732174</td>\n",
       "      <td>7.268022</td>\n",
       "      <td>9.429459</td>\n",
       "      <td>bckg</td>\n",
       "    </tr>\n",
       "  </tbody>\n",
       "</table>\n",
       "</div>"
      ],
      "text/plain": [
       "   index           0           1           2           3           4  \\\n",
       "0      0  127.024759   69.546526  133.429728   75.579342  163.903390   \n",
       "1      1  125.250078   67.183994  127.434964   77.281340  128.198433   \n",
       "2      2  118.398407  103.558887  217.767268  110.263221  259.158859   \n",
       "3      3  146.201855   73.323898  143.239389   94.063935  250.564918   \n",
       "4      4   73.529885   51.142607   79.946733   60.309404   89.267631   \n",
       "\n",
       "           5           6          7         8          9         10  \\\n",
       "0  86.561749  143.570808  53.153084  9.247431   8.734929  10.004829   \n",
       "1  66.344477  192.241251  68.802898  8.126782   8.490380  12.304529   \n",
       "2  94.618777  282.728322  91.828163  9.295707  10.862188  10.157833   \n",
       "3  82.789087  190.061045  83.145690  7.629506   8.055133   9.518876   \n",
       "4  45.180769  111.289420  62.992251  7.774465   8.232175   9.160430   \n",
       "\n",
       "          11        12         13         14         15 label  \n",
       "0  10.836674  8.470147  12.550170   9.305133  10.220588  bckg  \n",
       "1  11.684079  9.290573   9.912028  12.568496  12.651338  bckg  \n",
       "2  10.618830  7.604622   7.939252   9.940667   9.570230  bckg  \n",
       "3   9.070108  9.717384  10.508075   9.833249   9.648492  bckg  \n",
       "4   8.521743  7.123599   9.732174   7.268022   9.429459  bckg  "
      ]
     },
     "execution_count": 7,
     "metadata": {},
     "output_type": "execute_result"
    }
   ],
   "source": [
    "import sys\n",
    "sys.path.append('..')\n",
    "from seizurecast.models.pipeline import Pipeline, Config\n",
    "from seizurecast.postgresql import SQLengine\n",
    "import pandas as pd\n",
    "\n",
    "pipeline = Pipeline(Config())\n",
    "df = pd.read_sql_table('features_clf', SQLengine)\n",
    "df.head()"
   ]
  },
  {
   "cell_type": "markdown",
   "metadata": {},
   "source": [
    "### Number of estimators"
   ]
  },
  {
   "cell_type": "code",
   "execution_count": 12,
   "metadata": {},
   "outputs": [
    {
     "name": "stdout",
     "output_type": "stream",
     "text": [
      "Collected 3068 data points\n",
      "Recall\t Base: 1.0\t Test: 0.87\t Train: 1.0\n",
      "Precis\t Base: 0.49\t Test: 0.93\t Train: 1.0\n",
      "Roc\t Base: 0.5\t Test: 0.95\t Train: 1.0\n",
      "Recall\t Base: 1.0\t Test: 0.85\t Train: 0.99\n",
      "Precis\t Base: 0.49\t Test: 0.88\t Train: 1.0\n",
      "Roc\t Base: 0.5\t Test: 0.93\t Train: 1.0\n",
      "Recall\t Base: 1.0\t Test: 0.87\t Train: 0.98\n",
      "Precis\t Base: 0.49\t Test: 0.8\t Train: 0.98\n",
      "Roc\t Base: 0.5\t Test: 0.91\t Train: 1.0\n"
     ]
    },
    {
     "data": {
      "image/png": "[encoded data removed]",
      "text/plain": [
       "<Figure size 576x432 with 1 Axes>"
      ]
     },
     "metadata": {},
     "output_type": "display_data"
    }
   ],
   "source": [
    "from sklearn.ensemble import RandomForestClassifier\n",
    "from seizurecast.models.Result import Results\n",
    "\n",
    "pipeline.X = df.iloc[:,1:17].to_numpy()\n",
    "pipeline.y = df.iloc[:,17].to_numpy()\n",
    "pipeline.results = Results()\n",
    "pipeline.models = {}\n",
    "pipeline.models['rf-n=40'] = RandomForestClassifier(n_estimators=40, max_depth=None,\n",
    "                                               min_samples_split=3, random_state=0)\n",
    "pipeline.models['rf-n=10'] = RandomForestClassifier(n_estimators=10, max_depth=None,\n",
    "                                               min_samples_split=3, random_state=0)\n",
    "pipeline.models['rf-n=5'] = RandomForestClassifier(n_estimators=5, max_depth=None,\n",
    "                                               min_samples_split=3, random_state=0)\n",
    "pipeline.pipe()\n",
    "pipeline.results.plot_roc_curve()\n"
   ]
  },
  {
   "cell_type": "markdown",
   "metadata": {},
   "source": [
    "### Minimal samples split"
   ]
  },
  {
   "cell_type": "code",
   "execution_count": 32,
   "metadata": {},
   "outputs": [
    {
     "name": "stdout",
     "output_type": "stream",
     "text": [
      "Collected 3068 data points\n",
      "Recall\t Base: 1.0\t Test: 0.87\t Train: 1.0\n",
      "Precis\t Base: 0.49\t Test: 0.93\t Train: 1.0\n",
      "Roc\t Base: 0.5\t Test: 0.95\t Train: 1.0\n",
      "Recall\t Base: 1.0\t Test: 0.85\t Train: 1.0\n",
      "Precis\t Base: 0.49\t Test: 0.89\t Train: 1.0\n",
      "Roc\t Base: 0.5\t Test: 0.94\t Train: 1.0\n",
      "Recall\t Base: 1.0\t Test: 0.83\t Train: 0.99\n",
      "Precis\t Base: 0.49\t Test: 0.9\t Train: 1.0\n",
      "Roc\t Base: 0.5\t Test: 0.94\t Train: 1.0\n"
     ]
    },
    {
     "data": {
      "text/html": [
       "<div>\n",
       "<style scoped>\n",
       "    .dataframe tbody tr th:only-of-type {\n",
       "        vertical-align: middle;\n",
       "    }\n",
       "\n",
       "    .dataframe tbody tr th {\n",
       "        vertical-align: top;\n",
       "    }\n",
       "\n",
       "    .dataframe thead th {\n",
       "        text-align: right;\n",
       "    }\n",
       "</style>\n",
       "<table border=\"1\" class=\"dataframe\">\n",
       "  <thead>\n",
       "    <tr style=\"text-align: right;\">\n",
       "      <th></th>\n",
       "      <th>rf-min_split=3</th>\n",
       "      <th>rf-min_split=5</th>\n",
       "      <th>rf-min_split=10</th>\n",
       "    </tr>\n",
       "  </thead>\n",
       "  <tbody>\n",
       "    <tr>\n",
       "      <th>0</th>\n",
       "      <td>0.867</td>\n",
       "      <td>0.864</td>\n",
       "      <td>0.863</td>\n",
       "    </tr>\n",
       "  </tbody>\n",
       "</table>\n",
       "</div>"
      ],
      "text/plain": [
       "   rf-min_split=3  rf-min_split=5  rf-min_split=10\n",
       "0           0.867           0.864            0.863"
      ]
     },
     "execution_count": 32,
     "metadata": {},
     "output_type": "execute_result"
    }
   ],
   "source": [
    "pipeline.results = Results()\n",
    "pipeline.models = {}\n",
    "pipeline.models['rf-min_split=3'] = RandomForestClassifier(n_estimators=40, max_depth=None,\n",
    "                                               min_samples_split=3, random_state=0)\n",
    "pipeline.models['rf-min_split=5'] = RandomForestClassifier(n_estimators=40, max_depth=None,\n",
    "                                               min_samples_split=5, random_state=0)\n",
    "pipeline.models['rf-min_split=10'] = RandomForestClassifier(n_estimators=40, max_depth=None,\n",
    "                                               min_samples_split=10, random_state=0)\n",
    "pipeline.pipe()\n",
    "import numpy as np\n",
    "pd.DataFrame({k: round(np.mean(v), 3) for (k, v) in pipeline.scores_CV.items()}, index=[0])"
   ]
  },
  {
   "cell_type": "markdown",
   "metadata": {},
   "source": [
    "### Max Tree Depth"
   ]
  },
  {
   "cell_type": "code",
   "execution_count": 34,
   "metadata": {},
   "outputs": [
    {
     "name": "stdout",
     "output_type": "stream",
     "text": [
      "Collected 3068 data points\n",
      "Recall\t Base: 1.0\t Test: 0.87\t Train: 1.0\n",
      "Precis\t Base: 0.49\t Test: 0.93\t Train: 1.0\n",
      "Roc\t Base: 0.5\t Test: 0.95\t Train: 1.0\n",
      "Recall\t Base: 1.0\t Test: 0.85\t Train: 1.0\n",
      "Precis\t Base: 0.49\t Test: 0.91\t Train: 1.0\n",
      "Roc\t Base: 0.5\t Test: 0.95\t Train: 1.0\n",
      "Recall\t Base: 1.0\t Test: 0.68\t Train: 0.71\n",
      "Precis\t Base: 0.49\t Test: 0.84\t Train: 0.87\n",
      "Roc\t Base: 0.5\t Test: 0.87\t Train: 0.91\n"
     ]
    },
    {
     "data": {
      "text/html": [
       "<div>\n",
       "<style scoped>\n",
       "    .dataframe tbody tr th:only-of-type {\n",
       "        vertical-align: middle;\n",
       "    }\n",
       "\n",
       "    .dataframe tbody tr th {\n",
       "        vertical-align: top;\n",
       "    }\n",
       "\n",
       "    .dataframe thead th {\n",
       "        text-align: right;\n",
       "    }\n",
       "</style>\n",
       "<table border=\"1\" class=\"dataframe\">\n",
       "  <thead>\n",
       "    <tr style=\"text-align: right;\">\n",
       "      <th></th>\n",
       "      <th>rf-max_depth=None</th>\n",
       "      <th>rf-max_depth=20</th>\n",
       "      <th>rf-max_depth=10</th>\n",
       "    </tr>\n",
       "  </thead>\n",
       "  <tbody>\n",
       "    <tr>\n",
       "      <th>0</th>\n",
       "      <td>0.867</td>\n",
       "      <td>0.868</td>\n",
       "      <td>0.749</td>\n",
       "    </tr>\n",
       "  </tbody>\n",
       "</table>\n",
       "</div>"
      ],
      "text/plain": [
       "   rf-max_depth=None  rf-max_depth=20  rf-max_depth=10\n",
       "0              0.867            0.868            0.749"
      ]
     },
     "execution_count": 34,
     "metadata": {},
     "output_type": "execute_result"
    }
   ],
   "source": [
    "pipeline.results = Results()\n",
    "pipeline.models = {}\n",
    "pipeline.models['rf-max_depth=None'] = RandomForestClassifier(n_estimators=40, max_depth=None,\n",
    "                                               min_samples_split=3, random_state=0)\n",
    "pipeline.models['rf-max_depth=20'] = RandomForestClassifier(n_estimators=40, max_depth=20,\n",
    "                                               min_samples_split=3, random_state=0)\n",
    "pipeline.models['rf-max_depth=10'] = RandomForestClassifier(n_estimators=40, max_depth=5,\n",
    "                                               min_samples_split=3, random_state=0)\n",
    "pipeline.pipe()\n",
    "import numpy as np\n",
    "pd.DataFrame({k: round(np.mean(v), 3) for (k, v) in pipeline.scores_CV.items()}, index=[0])"
   ]
  },
  {
   "cell_type": "markdown",
   "metadata": {},
   "source": [
    "# Feature importance"
   ]
  },
  {
   "cell_type": "code",
   "execution_count": 41,
   "metadata": {},
   "outputs": [],
   "source": [
    "def plot_feature_importance(forest):\n",
    "    import matplotlib.pyplot as plt\n",
    "    import numpy as np\n",
    "    importances = forest.feature_importances_\n",
    "    std = np.std([tree.feature_importances_ for tree in forest.estimators_],\n",
    "                 axis=0)\n",
    "    indices = np.argsort(importances)[::-1]\n",
    "\n",
    "    num_of_features = len(indices)\n",
    "    # Plot the impurity-based feature importances of the forest\n",
    "    plt.figure(figsize=[5/15*num_of_features, 3])\n",
    "    plt.title(\"Feature importances\")\n",
    "    plt.bar(range(len(importances)), importances[indices],\n",
    "            color=\"r\", yerr=std[indices], align=\"center\")\n",
    "    plt.xticks(range(len(importances)), indices)\n",
    "    plt.xlim([-1, len(importances)])\n",
    "    # plt.show()\n",
    "    return(indices)"
   ]
  },
  {
   "cell_type": "code",
   "execution_count": 42,
   "metadata": {
    "scrolled": true
   },
   "outputs": [
    {
     "data": {
      "image/png": "[encoded data removed]",
      "text/plain": [
       "<Figure size 384x216 with 1 Axes>"
      ]
     },
     "metadata": {},
     "output_type": "display_data"
    }
   ],
   "source": [
    "forest = pipeline.results.results['rf-max_depth=None'].model\n",
    "indices = plot_feature_importance(forest)\n"
   ]
  },
  {
   "cell_type": "markdown",
   "metadata": {},
   "source": [
    "Feature # 0 - 7 correspond to the amplitude of the Fourier transformed spectra for channel 0 - 7. The above figure showed these features are the most important ones in the random forest.   "
   ]
  },
  {
   "cell_type": "markdown",
   "metadata": {},
   "source": [
    "# 8 channels vs 2 channels\n",
    "Choose channel 2 and channel 6"
   ]
  },
  {
   "cell_type": "code",
   "execution_count": 86,
   "metadata": {},
   "outputs": [
    {
     "name": "stdout",
     "output_type": "stream",
     "text": [
      "Collected 3068 data points\n",
      "Recall\t Base: 1.0\t Test: 0.87\t Train: 1.0\n",
      "Precis\t Base: 0.49\t Test: 0.93\t Train: 1.0\n",
      "Roc\t Base: 0.5\t Test: 0.95\t Train: 1.0\n",
      "Collected 3068 data points\n",
      "Recall\t Base: 1.0\t Test: 0.78\t Train: 0.99\n",
      "Precis\t Base: 0.49\t Test: 0.73\t Train: 1.0\n",
      "Roc\t Base: 0.5\t Test: 0.81\t Train: 1.0\n"
     ]
    },
    {
     "data": {
      "image/png": "[encoded data removed]",
      "text/plain": [
       "<Figure size 576x432 with 1 Axes>"
      ]
     },
     "metadata": {},
     "output_type": "display_data"
    }
   ],
   "source": [
    "pipeline.results = Results()\n",
    "pipeline.models = {}\n",
    "pipeline.models['8 channels'] = RandomForestClassifier(n_estimators=40, max_depth=None,\n",
    "                                               min_samples_split=3, random_state=0)\n",
    "pipeline.pipe()\n",
    "results = pipeline.results\n",
    "\n",
    "# 2channel\n",
    "pipe2 = Pipeline(Config())\n",
    "pipe2.X = pipeline.X[:,[2,6]]\n",
    "pipe2.y = pipeline.y\n",
    "pipe2.models = {}\n",
    "pipe2.models['2 channels'] = RandomForestClassifier(n_estimators=40, max_depth=None,\n",
    "                                               min_samples_split=3, random_state=0)\n",
    "\n",
    "pipe2.pipe()\n",
    "results.append('2 channels', pipe2.results.results['2 channels'])\n",
    "# import numpy as np\n",
    "# pd.DataFrame({k: round(np.mean(v), 3) for (k, v) in pipeline.scores_CV.items()}, index=[0])\n",
    "\n",
    "results.plot_roc_curve()"
   ]
  }
 ],
 "metadata": {
  "kernelspec": {
   "display_name": "Python 3",
   "language": "python",
   "name": "python3"
  },
  "language_info": {
   "codemirror_mode": {
    "name": "ipython",
    "version": 3
   },
   "file_extension": ".py",
   "mimetype": "text/x-python",
   "name": "python",
   "nbconvert_exporter": "python",
   "pygments_lexer": "ipython3",
   "version": "3.7.7"
  }
 },
 "nbformat": 4,
 "nbformat_minor": 4
}
