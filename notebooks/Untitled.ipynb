{
 "cells": [
  {
   "cell_type": "code",
   "execution_count": 1,
   "id": "6bff8180",
   "metadata": {
    "ExecuteTime": {
     "end_time": "2021-11-07T00:31:46.593513Z",
     "start_time": "2021-11-07T00:31:45.033004Z"
    }
   },
   "outputs": [
    {
     "name": "stdout",
     "output_type": "stream",
     "text": [
      "(3178, 7)\n"
     ]
    },
    {
     "data": {
      "text/html": [
       "<div>\n",
       "<style scoped>\n",
       "    .dataframe tbody tr th:only-of-type {\n",
       "        vertical-align: middle;\n",
       "    }\n",
       "\n",
       "    .dataframe tbody tr th {\n",
       "        vertical-align: top;\n",
       "    }\n",
       "\n",
       "    .dataframe thead th {\n",
       "        text-align: right;\n",
       "    }\n",
       "</style>\n",
       "<table border=\"1\" class=\"dataframe\">\n",
       "  <thead>\n",
       "    <tr style=\"text-align: right;\">\n",
       "      <th></th>\n",
       "      <th>train_test</th>\n",
       "      <th>tcp_type</th>\n",
       "      <th>patient_group</th>\n",
       "      <th>patient</th>\n",
       "      <th>session</th>\n",
       "      <th>token</th>\n",
       "      <th>token_path</th>\n",
       "    </tr>\n",
       "  </thead>\n",
       "  <tbody>\n",
       "    <tr>\n",
       "      <th>0</th>\n",
       "      <td>train</td>\n",
       "      <td>01_tcp_ar</td>\n",
       "      <td>104</td>\n",
       "      <td>00010435</td>\n",
       "      <td>s001_2013_06_19</td>\n",
       "      <td>00010435_s001_t000</td>\n",
       "      <td>/Users/yanxlin/github/omscs/deepcast/data/edf/...</td>\n",
       "    </tr>\n",
       "    <tr>\n",
       "      <th>1</th>\n",
       "      <td>train</td>\n",
       "      <td>01_tcp_ar</td>\n",
       "      <td>104</td>\n",
       "      <td>00010461</td>\n",
       "      <td>s001_2013_06_21</td>\n",
       "      <td>00010461_s001_t000</td>\n",
       "      <td>/Users/yanxlin/github/omscs/deepcast/data/edf/...</td>\n",
       "    </tr>\n",
       "    <tr>\n",
       "      <th>2</th>\n",
       "      <td>train</td>\n",
       "      <td>01_tcp_ar</td>\n",
       "      <td>104</td>\n",
       "      <td>00010450</td>\n",
       "      <td>s001_2013_06_19</td>\n",
       "      <td>00010450_s001_t000</td>\n",
       "      <td>/Users/yanxlin/github/omscs/deepcast/data/edf/...</td>\n",
       "    </tr>\n",
       "    <tr>\n",
       "      <th>3</th>\n",
       "      <td>train</td>\n",
       "      <td>01_tcp_ar</td>\n",
       "      <td>104</td>\n",
       "      <td>00010450</td>\n",
       "      <td>s001_2013_06_19</td>\n",
       "      <td>00010450_s001_t001</td>\n",
       "      <td>/Users/yanxlin/github/omscs/deepcast/data/edf/...</td>\n",
       "    </tr>\n",
       "    <tr>\n",
       "      <th>4</th>\n",
       "      <td>train</td>\n",
       "      <td>01_tcp_ar</td>\n",
       "      <td>104</td>\n",
       "      <td>00010489</td>\n",
       "      <td>s005_2013_07_10</td>\n",
       "      <td>00010489_s005_t006</td>\n",
       "      <td>/Users/yanxlin/github/omscs/deepcast/data/edf/...</td>\n",
       "    </tr>\n",
       "  </tbody>\n",
       "</table>\n",
       "</div>"
      ],
      "text/plain": [
       "  train_test   tcp_type patient_group   patient          session  \\\n",
       "0      train  01_tcp_ar           104  00010435  s001_2013_06_19   \n",
       "1      train  01_tcp_ar           104  00010461  s001_2013_06_21   \n",
       "2      train  01_tcp_ar           104  00010450  s001_2013_06_19   \n",
       "3      train  01_tcp_ar           104  00010450  s001_2013_06_19   \n",
       "4      train  01_tcp_ar           104  00010489  s005_2013_07_10   \n",
       "\n",
       "                token                                         token_path  \n",
       "0  00010435_s001_t000  /Users/yanxlin/github/omscs/deepcast/data/edf/...  \n",
       "1  00010461_s001_t000  /Users/yanxlin/github/omscs/deepcast/data/edf/...  \n",
       "2  00010450_s001_t000  /Users/yanxlin/github/omscs/deepcast/data/edf/...  \n",
       "3  00010450_s001_t001  /Users/yanxlin/github/omscs/deepcast/data/edf/...  \n",
       "4  00010489_s005_t006  /Users/yanxlin/github/omscs/deepcast/data/edf/...  "
      ]
     },
     "execution_count": 1,
     "metadata": {},
     "output_type": "execute_result"
    }
   ],
   "source": [
    "# directory\n",
    "import pandas as pd\n",
    "import seizurecast.data.file_io as file_io\n",
    "homedir = \"/Users/yanxlin/github/omscs/deepcast/data/edf/train/01_tcp_ar\"\n",
    "def listdir_edfs(homedir:str) -> pd.DataFrame:\n",
    "    df = file_io.listdir_edfs(homedir).drop(['path'+str(i) for i in range(len(homedir.split('/'))-2)], axis=1)\n",
    "    df = df.rename(columns={df.columns[0]:'train_test'})\n",
    "    return df\n",
    "df = listdir_edfs(homedir)\n",
    "print(df.shape)\n",
    "df.head()\n",
    "# df.to_sql('directory', con=SQLengine, if_exists='replace')"
   ]
  },
  {
   "cell_type": "code",
   "execution_count": 4,
   "id": "004c0ec9",
   "metadata": {
    "ExecuteTime": {
     "end_time": "2021-11-07T00:32:27.965558Z",
     "start_time": "2021-11-07T00:32:27.952967Z"
    }
   },
   "outputs": [
    {
     "data": {
      "text/plain": [
       "([[0.0, 347.3411],\n",
       "  [347.3411, 406.0145],\n",
       "  [406.0145, 613.9142],\n",
       "  [613.9142, 669.0535],\n",
       "  [669.0535, 873.3712],\n",
       "  [873.3712, 895.0],\n",
       "  [895.0, 896.0]],\n",
       " ['bckg', 'seiz', 'bckg', 'seiz', 'bckg', 'seiz', 'bckg'])"
      ]
     },
     "execution_count": 4,
     "metadata": {},
     "output_type": "execute_result"
    }
   ],
   "source": [
    "from seizurecast.data.file_io import load_tse_bi\n",
    "token = df.token_path.sample(1, random_state=18).values[0]\n",
    "intvs, labls = load_tse_bi(token)\n",
    "intvs, labls"
   ]
  },
  {
   "cell_type": "code",
   "execution_count": 5,
   "id": "566fbfd8",
   "metadata": {
    "ExecuteTime": {
     "end_time": "2021-11-07T00:32:28.021083Z",
     "start_time": "2021-11-07T00:32:27.985084Z"
    }
   },
   "outputs": [
    {
     "data": {
      "text/plain": [
       "([[0.0, 247.34109999999998],\n",
       "  [247.34109999999998, 347.3411],\n",
       "  [347.3411, 406.0145],\n",
       "  [406.0145, 613.9142],\n",
       "  [613.9142, 669.0535],\n",
       "  [669.0535, 873.3712],\n",
       "  [873.3712, 895.0],\n",
       "  [895.0, 896.0]],\n",
       " ['bckg', 'pres', 'seiz', 'post', 'seiz', 'post', 'seiz', 'post'])"
      ]
     },
     "execution_count": 5,
     "metadata": {},
     "output_type": "execute_result"
    }
   ],
   "source": [
    "from seizurecast.data.label import relabel_tse_bi\n",
    "len_pre, len_post, sec_gap = 100, 300, 0\n",
    "intvs, labls = relabel_tse_bi(intvs=intvs, labels=labls,\n",
    "                              len_pre=len_pre, \n",
    "                              len_post=len_post,\n",
    "                              sec_gap=sec_gap)\n",
    "intvs, labls"
   ]
  },
  {
   "cell_type": "code",
   "execution_count": 6,
   "id": "91887701",
   "metadata": {
    "ExecuteTime": {
     "end_time": "2021-11-07T00:32:45.581702Z",
     "start_time": "2021-11-07T00:32:38.955729Z"
    }
   },
   "outputs": [
    {
     "name": "stdout",
     "output_type": "stream",
     "text": [
      "(8, 229376)\n"
     ]
    },
    {
     "data": {
      "text/plain": [
       "[<matplotlib.lines.Line2D at 0x141403250>,\n",
       " <matplotlib.lines.Line2D at 0x141403280>,\n",
       " <matplotlib.lines.Line2D at 0x1414032e0>,\n",
       " <matplotlib.lines.Line2D at 0x141403400>,\n",
       " <matplotlib.lines.Line2D at 0x141403520>,\n",
       " <matplotlib.lines.Line2D at 0x141403640>,\n",
       " <matplotlib.lines.Line2D at 0x141403760>,\n",
       " <matplotlib.lines.Line2D at 0x141403880>]"
      ]
     },
     "execution_count": 6,
     "metadata": {},
     "output_type": "execute_result"
    },
    {
     "data": {
      "image/png": "[encoded data removed]",
      "text/plain": [
       "<Figure size 432x288 with 1 Axes>"
      ]
     },
     "metadata": {
      "needs_background": "light"
     },
     "output_type": "display_data"
    }
   ],
   "source": [
    "from seizurecast.models.parameters import STD_CHANNEL_01_AR\n",
    "from seizurecast.data.make_dataset import produce_signal\n",
    "s = produce_signal(token, montage = STD_CHANNEL_01_AR, fsamp=256)\n",
    "\n",
    "import matplotlib.pyplot as plt\n",
    "print(s.shape)\n",
    "plt.plot(s.T)"
   ]
  },
  {
   "cell_type": "code",
   "execution_count": 7,
   "id": "1a4fd681",
   "metadata": {
    "ExecuteTime": {
     "end_time": "2021-11-07T00:42:33.122694Z",
     "start_time": "2021-11-07T00:38:22.505725Z"
    }
   },
   "outputs": [],
   "source": [
    "# modeling\n",
    "import pickle\n",
    "def load_50_patients(edfs):\n",
    "    \"\"\"Load 50 datasets ~2 MIN\"\"\"\n",
    "    from seizurecast.data.make_dataset import make_dataset\n",
    "\n",
    "    # relabeling config\n",
    "    LEN_PRE = 300  # 5 minutes pre\n",
    "    LEN_POS = 600\n",
    "    SEC_GAP = 600  # 10 minutes gap\n",
    "    SAMPLING_RATE = 256\n",
    "\n",
    "    token_paths = edfs.sample(50, random_state=0)['token_path'].to_numpy()\n",
    "    dataset, labels = make_dataset(token_paths, len_pre=LEN_PRE, len_post=LEN_POS, sec_gap=SEC_GAP, fsamp=SAMPLING_RATE)\n",
    "\n",
    "    with open('../tmp/ds10min.pkl', 'wb') as fp:\n",
    "        pickle.dump((dataset, labels), fp)\n",
    "\n",
    "load_50_patients(edfs=df)\n",
    "\"\"\"Load pre-cached dataset\"\"\"\n",
    "with open('../tmp/ds.pkl', 'rb') as fp:\n",
    "    dataset, labels = pickle.load(fp)"
   ]
  },
  {
   "cell_type": "code",
   "execution_count": null,
   "id": "44aa290e",
   "metadata": {
    "ExecuteTime": {
     "start_time": "2021-11-07T00:47:19.830Z"
    }
   },
   "outputs": [],
   "source": [
    "dataset.shape"
   ]
  }
 ],
 "metadata": {
  "kernelspec": {
   "display_name": "Python [conda env:insight] *",
   "language": "python",
   "name": "conda-env-insight-py"
  },
  "language_info": {
   "codemirror_mode": {
    "name": "ipython",
    "version": 3
   },
   "file_extension": ".py",
   "mimetype": "text/x-python",
   "name": "python",
   "nbconvert_exporter": "python",
   "pygments_lexer": "ipython3",
   "version": "3.9.4"
  },
  "toc": {
   "base_numbering": 1,
   "nav_menu": {},
   "number_sections": true,
   "sideBar": true,
   "skip_h1_title": false,
   "title_cell": "Table of Contents",
   "title_sidebar": "Contents",
   "toc_cell": false,
   "toc_position": {},
   "toc_section_display": true,
   "toc_window_display": false
  },
  "varInspector": {
   "cols": {
    "lenName": 16,
    "lenType": 16,
    "lenVar": 40
   },
   "kernels_config": {
    "python": {
     "delete_cmd_postfix": "",
     "delete_cmd_prefix": "del ",
     "library": "var_list.py",
     "varRefreshCmd": "print(var_dic_list())"
    },
    "r": {
     "delete_cmd_postfix": ") ",
     "delete_cmd_prefix": "rm(",
     "library": "var_list.r",
     "varRefreshCmd": "cat(var_dic_list()) "
    }
   },
   "types_to_exclude": [
    "module",
    "function",
    "builtin_function_or_method",
    "instance",
    "_Feature"
   ],
   "window_display": false
  }
 },
 "nbformat": 4,
 "nbformat_minor": 5
}
