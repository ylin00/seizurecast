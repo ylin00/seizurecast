{
 "cells": [
  {
   "cell_type": "markdown",
   "metadata": {},
   "source": [
    "# LSTM modeling of TUH_SEZ EEG dataset"
   ]
  },
  {
   "cell_type": "markdown",
   "metadata": {},
   "source": [
    "## Data Source"
   ]
  },
  {
   "cell_type": "markdown",
   "metadata": {},
   "source": [
    "The TUH EEG Seizure Corpus (TUSZ): This corpus has manually EEG signals that have been carefully annotated data for seizures. For more information about this corpus, please refer to https://www.isip.piconepress.com/projects/tuh_eeg/html/downloads.shtml"
   ]
  },
  {
   "cell_type": "markdown",
   "metadata": {},
   "source": [
    "## Prerequisites \n",
    "* Download TUSZ dataset to your local machine, using the above link. This can be done using rsync, following the instruction in the download page. We need to register a username and password.\n",
    "* pre-process the TUSZ dataset (Relavent notebooks in the directory)\n",
    "2. insert the pre-processed data into a SQL database\n",
    "3. host the SQL database via SQLengine. This can be localhost or remote on RDS, etc.\n"
   ]
  },
  {
   "cell_type": "code",
   "execution_count": 2,
   "metadata": {
    "colab": {},
    "colab_type": "code",
    "id": "cPaIAjhNVUkR"
   },
   "outputs": [],
   "source": [
    "# !git clone https://github.com/ylin00/seizurecast\n",
    "import sys\n",
    "sys.path.append('..')\n",
    "import numpy as np\n",
    "import pandas as pd\n",
    "import matplotlib.pyplot as plt\n",
    "\n",
    "from seizurecast.postgresql import SQLengine\n",
    "from seizurecast.models.parameters import LABEL_BKG, LABEL_PRE, LABEL_SEZ\n",
    "\n",
    "def setlabel(pres, post, len_pos=300, len_pre=300, sec_gap=600):\n",
    "  \"\"\"convert pres and post timestamps to background and preseizure labels\"\"\"\n",
    "  y = []\n",
    "  for _, (pres, post) in enumerate(zip(pres, post)):\n",
    "    if post > len_pos and pres > sec_gap + len_pre:\n",
    "      y.append(LABEL_BKG)\n",
    "    elif post > len_pos and pres > sec_gap:\n",
    "      y.append(LABEL_PRE)\n",
    "    else:\n",
    "      y.append(LABEL_SEZ)\n",
    "  return y"
   ]
  },
  {
   "cell_type": "markdown",
   "metadata": {
    "colab_type": "text",
    "id": "vx4brGd_YExI"
   },
   "source": [
    "## Explore the table used in this notebook"
   ]
  },
  {
   "cell_type": "markdown",
   "metadata": {
    "colab_type": "text",
    "id": "DmlPfHR3aEUQ"
   },
   "source": [
    "### Preprocessed training set of TCP type 01 "
   ]
  },
  {
   "cell_type": "code",
   "execution_count": 3,
   "metadata": {
    "colab": {},
    "colab_type": "code",
    "id": "ghbShKUTVSwV"
   },
   "outputs": [
    {
     "data": {
      "text/html": [
       "<div>\n",
       "<style scoped>\n",
       "    .dataframe tbody tr th:only-of-type {\n",
       "        vertical-align: middle;\n",
       "    }\n",
       "\n",
       "    .dataframe tbody tr th {\n",
       "        vertical-align: top;\n",
       "    }\n",
       "\n",
       "    .dataframe thead th {\n",
       "        text-align: right;\n",
       "    }\n",
       "</style>\n",
       "<table border=\"1\" class=\"dataframe\">\n",
       "  <thead>\n",
       "    <tr style=\"text-align: right;\">\n",
       "      <th></th>\n",
       "      <th>index</th>\n",
       "      <th>ch0</th>\n",
       "      <th>ch1</th>\n",
       "      <th>ch2</th>\n",
       "      <th>ch3</th>\n",
       "      <th>ch4</th>\n",
       "      <th>ch5</th>\n",
       "      <th>ch6</th>\n",
       "      <th>ch7</th>\n",
       "      <th>token</th>\n",
       "      <th>timestamp</th>\n",
       "      <th>post</th>\n",
       "      <th>pres</th>\n",
       "    </tr>\n",
       "  </thead>\n",
       "  <tbody>\n",
       "    <tr>\n",
       "      <th>0</th>\n",
       "      <td>0</td>\n",
       "      <td>3.075307</td>\n",
       "      <td>-1.437953</td>\n",
       "      <td>-0.510054</td>\n",
       "      <td>-1.787994</td>\n",
       "      <td>-9.574326</td>\n",
       "      <td>-1.176332</td>\n",
       "      <td>-8.338621</td>\n",
       "      <td>0.81589</td>\n",
       "      <td>00010489_s005_t009</td>\n",
       "      <td>0.0</td>\n",
       "      <td>99999.0</td>\n",
       "      <td>99999.0</td>\n",
       "    </tr>\n",
       "  </tbody>\n",
       "</table>\n",
       "</div>"
      ],
      "text/plain": [
       "   index       ch0       ch1       ch2       ch3       ch4       ch5  \\\n",
       "0      0  3.075307 -1.437953 -0.510054 -1.787994 -9.574326 -1.176332   \n",
       "\n",
       "        ch6      ch7               token  timestamp     post     pres  \n",
       "0 -8.338621  0.81589  00010489_s005_t009        0.0  99999.0  99999.0  "
      ]
     },
     "execution_count": 3,
     "metadata": {},
     "output_type": "execute_result"
    }
   ],
   "source": [
    "pd.read_sql(\"select * from preprocessed_train_tcp01 where token='00010489_s005_t009' limit 1\", SQLengine).head()\n"
   ]
  },
  {
   "cell_type": "markdown",
   "metadata": {
    "colab_type": "text",
    "id": "iEB_FOsLaP9v"
   },
   "source": [
    "## Patient directory"
   ]
  },
  {
   "cell_type": "code",
   "execution_count": 4,
   "metadata": {
    "colab": {
     "base_uri": "https://localhost:8080/",
     "height": 224
    },
    "colab_type": "code",
    "id": "zqAu8tFtYPlu",
    "outputId": "e876210a-95cb-420c-b72b-0c5444d48d36",
    "scrolled": false
   },
   "outputs": [
    {
     "name": "stdout",
     "output_type": "stream",
     "text": [
      "The count of distint patient\n",
      "    count\n",
      "0    637\n",
      "The head of table Directory\n"
     ]
    },
    {
     "data": {
      "text/html": [
       "<div>\n",
       "<style scoped>\n",
       "    .dataframe tbody tr th:only-of-type {\n",
       "        vertical-align: middle;\n",
       "    }\n",
       "\n",
       "    .dataframe tbody tr th {\n",
       "        vertical-align: top;\n",
       "    }\n",
       "\n",
       "    .dataframe thead th {\n",
       "        text-align: right;\n",
       "    }\n",
       "</style>\n",
       "<table border=\"1\" class=\"dataframe\">\n",
       "  <thead>\n",
       "    <tr style=\"text-align: right;\">\n",
       "      <th></th>\n",
       "      <th>index</th>\n",
       "      <th>path0</th>\n",
       "      <th>path1</th>\n",
       "      <th>path2</th>\n",
       "      <th>path3</th>\n",
       "      <th>path4</th>\n",
       "      <th>path5</th>\n",
       "      <th>path6</th>\n",
       "      <th>train_test</th>\n",
       "      <th>tcp_type</th>\n",
       "      <th>patient_group</th>\n",
       "      <th>patient</th>\n",
       "      <th>session</th>\n",
       "      <th>token</th>\n",
       "      <th>token_path</th>\n",
       "    </tr>\n",
       "  </thead>\n",
       "  <tbody>\n",
       "    <tr>\n",
       "      <th>0</th>\n",
       "      <td>0</td>\n",
       "      <td></td>\n",
       "      <td>Users</td>\n",
       "      <td>yanxlin</td>\n",
       "      <td>github</td>\n",
       "      <td>ids</td>\n",
       "      <td>tusz_1_5_2</td>\n",
       "      <td>edf</td>\n",
       "      <td>train</td>\n",
       "      <td>03_tcp_ar_a</td>\n",
       "      <td>104</td>\n",
       "      <td>00010418</td>\n",
       "      <td>s018_2014_06_01</td>\n",
       "      <td>00010418_s018_t008</td>\n",
       "      <td>/Users/yanxlin/github/ids/tusz_1_5_2/edf/train...</td>\n",
       "    </tr>\n",
       "    <tr>\n",
       "      <th>1</th>\n",
       "      <td>1</td>\n",
       "      <td></td>\n",
       "      <td>Users</td>\n",
       "      <td>yanxlin</td>\n",
       "      <td>github</td>\n",
       "      <td>ids</td>\n",
       "      <td>tusz_1_5_2</td>\n",
       "      <td>edf</td>\n",
       "      <td>train</td>\n",
       "      <td>03_tcp_ar_a</td>\n",
       "      <td>104</td>\n",
       "      <td>00010418</td>\n",
       "      <td>s018_2014_06_01</td>\n",
       "      <td>00010418_s018_t009</td>\n",
       "      <td>/Users/yanxlin/github/ids/tusz_1_5_2/edf/train...</td>\n",
       "    </tr>\n",
       "    <tr>\n",
       "      <th>2</th>\n",
       "      <td>2</td>\n",
       "      <td></td>\n",
       "      <td>Users</td>\n",
       "      <td>yanxlin</td>\n",
       "      <td>github</td>\n",
       "      <td>ids</td>\n",
       "      <td>tusz_1_5_2</td>\n",
       "      <td>edf</td>\n",
       "      <td>train</td>\n",
       "      <td>03_tcp_ar_a</td>\n",
       "      <td>104</td>\n",
       "      <td>00010418</td>\n",
       "      <td>s018_2014_06_01</td>\n",
       "      <td>00010418_s018_t001</td>\n",
       "      <td>/Users/yanxlin/github/ids/tusz_1_5_2/edf/train...</td>\n",
       "    </tr>\n",
       "    <tr>\n",
       "      <th>3</th>\n",
       "      <td>3</td>\n",
       "      <td></td>\n",
       "      <td>Users</td>\n",
       "      <td>yanxlin</td>\n",
       "      <td>github</td>\n",
       "      <td>ids</td>\n",
       "      <td>tusz_1_5_2</td>\n",
       "      <td>edf</td>\n",
       "      <td>train</td>\n",
       "      <td>03_tcp_ar_a</td>\n",
       "      <td>104</td>\n",
       "      <td>00010418</td>\n",
       "      <td>s018_2014_06_01</td>\n",
       "      <td>00010418_s018_t000</td>\n",
       "      <td>/Users/yanxlin/github/ids/tusz_1_5_2/edf/train...</td>\n",
       "    </tr>\n",
       "    <tr>\n",
       "      <th>4</th>\n",
       "      <td>4</td>\n",
       "      <td></td>\n",
       "      <td>Users</td>\n",
       "      <td>yanxlin</td>\n",
       "      <td>github</td>\n",
       "      <td>ids</td>\n",
       "      <td>tusz_1_5_2</td>\n",
       "      <td>edf</td>\n",
       "      <td>train</td>\n",
       "      <td>03_tcp_ar_a</td>\n",
       "      <td>104</td>\n",
       "      <td>00010418</td>\n",
       "      <td>s018_2014_06_01</td>\n",
       "      <td>00010418_s018_t002</td>\n",
       "      <td>/Users/yanxlin/github/ids/tusz_1_5_2/edf/train...</td>\n",
       "    </tr>\n",
       "  </tbody>\n",
       "</table>\n",
       "</div>"
      ],
      "text/plain": [
       "   index path0  path1    path2   path3 path4       path5 path6 train_test  \\\n",
       "0      0        Users  yanxlin  github   ids  tusz_1_5_2   edf      train   \n",
       "1      1        Users  yanxlin  github   ids  tusz_1_5_2   edf      train   \n",
       "2      2        Users  yanxlin  github   ids  tusz_1_5_2   edf      train   \n",
       "3      3        Users  yanxlin  github   ids  tusz_1_5_2   edf      train   \n",
       "4      4        Users  yanxlin  github   ids  tusz_1_5_2   edf      train   \n",
       "\n",
       "      tcp_type patient_group   patient          session               token  \\\n",
       "0  03_tcp_ar_a           104  00010418  s018_2014_06_01  00010418_s018_t008   \n",
       "1  03_tcp_ar_a           104  00010418  s018_2014_06_01  00010418_s018_t009   \n",
       "2  03_tcp_ar_a           104  00010418  s018_2014_06_01  00010418_s018_t001   \n",
       "3  03_tcp_ar_a           104  00010418  s018_2014_06_01  00010418_s018_t000   \n",
       "4  03_tcp_ar_a           104  00010418  s018_2014_06_01  00010418_s018_t002   \n",
       "\n",
       "                                          token_path  \n",
       "0  /Users/yanxlin/github/ids/tusz_1_5_2/edf/train...  \n",
       "1  /Users/yanxlin/github/ids/tusz_1_5_2/edf/train...  \n",
       "2  /Users/yanxlin/github/ids/tusz_1_5_2/edf/train...  \n",
       "3  /Users/yanxlin/github/ids/tusz_1_5_2/edf/train...  \n",
       "4  /Users/yanxlin/github/ids/tusz_1_5_2/edf/train...  "
      ]
     },
     "execution_count": 4,
     "metadata": {},
     "output_type": "execute_result"
    }
   ],
   "source": [
    "print(\"The count of distint patient\\n\",pd.read_sql(\"select count(distinct patient) from directory\", SQLengine))\n",
    "print(\"The head of table Directory\")\n",
    "pd.read_sql(\"select * from directory limit 10\", SQLengine).head()"
   ]
  },
  {
   "cell_type": "markdown",
   "metadata": {
    "colab_type": "text",
    "id": "nn3gGtaFaa_N"
   },
   "source": [
    "## Labels of seizure events from experts"
   ]
  },
  {
   "cell_type": "code",
   "execution_count": 5,
   "metadata": {
    "colab": {
     "base_uri": "https://localhost:8080/",
     "height": 34
    },
    "colab_type": "code",
    "id": "14PIjjXJVjp-",
    "outputId": "c77086f1-3cc4-40af-d0d4-64d80dea5c8c"
   },
   "outputs": [
    {
     "name": "stdout",
     "output_type": "stream",
     "text": [
      "Number of token containing seizures = 2370\n",
      "Else = 6967\n"
     ]
    },
    {
     "data": {
      "text/html": [
       "<div>\n",
       "<style scoped>\n",
       "    .dataframe tbody tr th:only-of-type {\n",
       "        vertical-align: middle;\n",
       "    }\n",
       "\n",
       "    .dataframe tbody tr th {\n",
       "        vertical-align: top;\n",
       "    }\n",
       "\n",
       "    .dataframe thead th {\n",
       "        text-align: right;\n",
       "    }\n",
       "</style>\n",
       "<table border=\"1\" class=\"dataframe\">\n",
       "  <thead>\n",
       "    <tr style=\"text-align: right;\">\n",
       "      <th></th>\n",
       "      <th>level_0</th>\n",
       "      <th>index</th>\n",
       "      <th>token</th>\n",
       "      <th>time_start</th>\n",
       "      <th>time_end</th>\n",
       "      <th>label</th>\n",
       "      <th>prob</th>\n",
       "      <th>train_test</th>\n",
       "    </tr>\n",
       "  </thead>\n",
       "  <tbody>\n",
       "    <tr>\n",
       "      <th>0</th>\n",
       "      <td>0</td>\n",
       "      <td>36</td>\n",
       "      <td>00000492_s003_t000</td>\n",
       "      <td>6.2825</td>\n",
       "      <td>35.8875</td>\n",
       "      <td>seiz</td>\n",
       "      <td>1.0</td>\n",
       "      <td>train</td>\n",
       "    </tr>\n",
       "    <tr>\n",
       "      <th>1</th>\n",
       "      <td>1</td>\n",
       "      <td>39</td>\n",
       "      <td>00000492_s003_t001</td>\n",
       "      <td>33.1425</td>\n",
       "      <td>53.0000</td>\n",
       "      <td>seiz</td>\n",
       "      <td>1.0</td>\n",
       "      <td>train</td>\n",
       "    </tr>\n",
       "    <tr>\n",
       "      <th>2</th>\n",
       "      <td>2</td>\n",
       "      <td>42</td>\n",
       "      <td>00000492_s003_t002</td>\n",
       "      <td>9.7925</td>\n",
       "      <td>29.1250</td>\n",
       "      <td>seiz</td>\n",
       "      <td>1.0</td>\n",
       "      <td>train</td>\n",
       "    </tr>\n",
       "  </tbody>\n",
       "</table>\n",
       "</div>"
      ],
      "text/plain": [
       "   level_0  index               token  time_start  time_end label  prob  \\\n",
       "0        0     36  00000492_s003_t000      6.2825   35.8875  seiz   1.0   \n",
       "1        1     39  00000492_s003_t001     33.1425   53.0000  seiz   1.0   \n",
       "2        2     42  00000492_s003_t002      9.7925   29.1250  seiz   1.0   \n",
       "\n",
       "  train_test  \n",
       "0      train  \n",
       "1      train  \n",
       "2      train  "
      ]
     },
     "execution_count": 5,
     "metadata": {},
     "output_type": "execute_result"
    }
   ],
   "source": [
    "[pd.read_sql(f\"\"\"\n",
    "select * from seiz_bckg \n",
    "where label='{lbl}' and train_test='train'\n",
    "\"\"\", SQLengine).to_sql(f'tmp_{lbl}_train', SQLengine, if_exists='replace') for lbl in ['bckg', 'seiz']]\n",
    "print(f\"\"\"Number of token containing seizures = {pd.read_sql(\"select count(*) from tmp_seiz_train\", SQLengine).to_numpy()[0,0]}\"\"\")\n",
    "print(f\"\"\"Else = {pd.read_sql(\"select count(*) from tmp_bckg_train\", SQLengine).to_numpy()[0,0]}\"\"\")\n",
    "pd.read_sql(\"select * from tmp_seiz_train limit 3\", SQLengine).head()"
   ]
  },
  {
   "cell_type": "markdown",
   "metadata": {
    "colab_type": "text",
    "id": "5_UbSdqZY4V1"
   },
   "source": [
    "# Split Train Test patients"
   ]
  },
  {
   "cell_type": "code",
   "execution_count": 6,
   "metadata": {
    "scrolled": true
   },
   "outputs": [
    {
     "name": "stdout",
     "output_type": "stream",
     "text": [
      "Patient ID:     patient\n",
      "0  00011454\n",
      "1  00008053\n",
      "2  00008440 ..., \n",
      " Number of patients in Train:\t246\n",
      " Number of patients in Test:\t62\n",
      "\n"
     ]
    }
   ],
   "source": [
    "patient_train = pd.read_sql(\"select distinct patient from patient_group where train_test='train'\", SQLengine)\n",
    "patient_test = pd.read_sql(\"select distinct patient from patient_group where train_test='test'\", SQLengine)\n",
    "print(f\"Patient ID: {patient_train[0:3]} ..., \\n\",\n",
    "    f\"Number of patients in Train:\\t{patient_train.shape[0]}\\n\",\n",
    "    f\"Number of patients in Test:\\t{patient_test.shape[0]}\\n\")"
   ]
  },
  {
   "cell_type": "code",
   "execution_count": 7,
   "metadata": {
    "colab": {},
    "colab_type": "code",
    "id": "mnIRmeSU-S_G"
   },
   "outputs": [],
   "source": [
    "# create table tmp_token_group storing Token and their train/test group\n",
    "pd.read_sql(\"\"\"\n",
    "select A.train_test, B.token\n",
    "from patient_group A\n",
    "inner join directory B on A.patient=B.patient;\n",
    "\"\"\",SQLengine).to_sql('tmp_token_group', SQLengine, if_exists='replace')"
   ]
  },
  {
   "cell_type": "code",
   "execution_count": 8,
   "metadata": {
    "colab": {
     "base_uri": "https://localhost:8080/",
     "height": 153
    },
    "colab_type": "code",
    "id": "bJVRATpPBRSC",
    "outputId": "520883a4-3c6e-487c-d744-c83d9502e036"
   },
   "outputs": [
    {
     "name": "stdout",
     "output_type": "stream",
     "text": [
      "Number of Tokens in each group \n",
      "             token\n",
      "train_test       \n",
      "test          712\n",
      "train        2974\n"
     ]
    }
   ],
   "source": [
    "print(\"Number of Tokens in each group \\n\", pd.read_sql(\"select * from tmp_token_group\", SQLengine)[['train_test','token']].groupby('train_test').count())"
   ]
  },
  {
   "cell_type": "markdown",
   "metadata": {},
   "source": [
    "## Load train/test dataset"
   ]
  },
  {
   "cell_type": "code",
   "execution_count": 15,
   "metadata": {
    "colab": {},
    "colab_type": "code",
    "id": "TFhH8fJU78nK"
   },
   "outputs": [
    {
     "name": "stdout",
     "output_type": "stream",
     "text": [
      "Size of Tran set = (2000000, 12); \n",
      "Size of Test set = (1197107, 12)\n"
     ]
    }
   ],
   "source": [
    "def load_dataset(feature_table, token_table, len_pos, len_pre, sec_gap, limit=100, SQLengine=SQLengine):\n",
    "    \"\"\"\n",
    "    Args:\n",
    "        feature_table: feature table name\n",
    "        token_table: token_table that contains train_test label\n",
    "        len_pos: post seizure length in second\n",
    "        len_pre: pre seizure length in second\n",
    "        sec_gap: gap in second between pre-seizrue and seizure\n",
    "        limit: limit of items\n",
    "    \"\"\"\n",
    "    dataset={}\n",
    "    for i, group in enumerate(['train', 'test']):\n",
    "        dataset[group] = (pd.read_sql(f\"\"\"\n",
    "        (\n",
    "            select token, index,  ch0, ch1, ch2, ch3, ch4, ch5, ch6, ch7, post, pres\n",
    "            from {feature_table} A\n",
    "            where A.token in (\n",
    "              select B.token from {token_table} B where B.train_test='{group}'\n",
    "            ) and (\n",
    "              A.pres<{sec_gap + len_pre}\n",
    "              and {sec_gap}<A.pres\n",
    "              and A.post>{len_pos}\n",
    "            ) \n",
    "            limit {limit}\n",
    "        )\n",
    "\n",
    "        union\n",
    "\n",
    "        (\n",
    "            select token, index, ch0, ch1, ch2, ch3, ch4, ch5, ch6, ch7, post, pres \n",
    "            from {feature_table} A\n",
    "            where A.token in (\n",
    "              select B.token from {token_table} B where B.train_test='{group}' \n",
    "            ) and (\n",
    "              {sec_gap + len_pre}<A.pres\n",
    "              and A.post>{len_pos}\n",
    "            )\n",
    "            limit {limit}\n",
    "        )\n",
    "        \n",
    "        order by\n",
    "            token,\n",
    "            index\n",
    "        ;\n",
    "        \"\"\", SQLengine))\n",
    "    return dataset\n",
    "\n",
    "# Consider load 'dataset.pkl' before query sql\n",
    "\n",
    "# dataset = load_dataset('preprocessed_train_tcp01', 'tmp_token_group', 300, 600, 300, limit=1000000)\n",
    "print(f\"Size of Tran set = {dataset['train'].shape}; \\nSize of Test set = {dataset['test'].shape}\")"
   ]
  },
  {
   "cell_type": "code",
   "execution_count": 23,
   "metadata": {},
   "outputs": [
    {
     "data": {
      "text/plain": [
       "<matplotlib.axes._subplots.AxesSubplot at 0x1a24006d90>"
      ]
     },
     "execution_count": 23,
     "metadata": {},
     "output_type": "execute_result"
    },
    {
     "data": {
      "image/png": "[encoded data removed]",
      "text/plain": [
       "<Figure size 432x288 with 1 Axes>"
      ]
     },
     "metadata": {
      "needs_background": "light"
     },
     "output_type": "display_data"
    }
   ],
   "source": [
    "# import pickle\n",
    "# with open('lstm_datasets.pkl', 'wb') as f:\n",
    "#     pickle.dump(dataset, f)\n",
    "# patient counts\n",
    "dataset['train'].groupby('token')['ch0'].count().hist()"
   ]
  },
  {
   "cell_type": "markdown",
   "metadata": {},
   "source": [
    "## Balance Data"
   ]
  },
  {
   "cell_type": "markdown",
   "metadata": {},
   "source": [
    "I balance data using subsampling, weighted by the number of samples each patient has, i.e., the more samples a patient has in the dataset, the less likely each sample will be selected.   "
   ]
  },
  {
   "cell_type": "markdown",
   "metadata": {},
   "source": [
    "Patient numbers in the train test"
   ]
  },
  {
   "cell_type": "code",
   "execution_count": 24,
   "metadata": {
    "scrolled": true
   },
   "outputs": [
    {
     "name": "stdout",
     "output_type": "stream",
     "text": [
      "number of patients in train/test\n"
     ]
    },
    {
     "data": {
      "text/plain": [
       "level_0\n",
       "test      8\n",
       "train    21\n",
       "Name: patient, dtype: int64"
      ]
     },
     "execution_count": 24,
     "metadata": {},
     "output_type": "execute_result"
    }
   ],
   "source": [
    "dirs = pd.read_sql(\"select token, patient from directory\", SQLengine)\n",
    "print(\"number of patients in train/test\")\n",
    "pd.concat(dataset)\\\n",
    "    .loc[:,['token']]\\\n",
    "    .drop_duplicates()\\\n",
    "    .reset_index()\\\n",
    "    .merge(dirs, how='left')\\\n",
    "    .set_index(['level_0','level_1'])\\\n",
    "    .groupby('level_0')['patient'].nunique()"
   ]
  },
  {
   "cell_type": "code",
   "execution_count": 31,
   "metadata": {},
   "outputs": [
    {
     "name": "stdout",
     "output_type": "stream",
     "text": [
      "Histogram of patients and their representation in the dataset\n"
     ]
    },
    {
     "data": {
      "image/png": "[encoded data removed]",
      "text/plain": [
       "<Figure size 432x288 with 1 Axes>"
      ]
     },
     "metadata": {
      "needs_background": "light"
     },
     "output_type": "display_data"
    }
   ],
   "source": [
    "print(\"Histogram of patients and their representation in the dataset\")\n",
    "patient_count = pd.concat(dataset)\\\n",
    "    .drop_duplicates()\\\n",
    "    .reset_index()\\\n",
    "    .merge(dirs, how='left')\\\n",
    "    .set_index(['level_0','patient'])\\\n",
    "    .loc[:,'ch0']\\\n",
    "    .groupby(['level_0', 'patient']).count()\n",
    "_ = patient_count.hist(bins=100)\n",
    "_=plt.xlabel(\"# of tokens\")\n",
    "_=plt.ylabel(\"# of patients\")"
   ]
  },
  {
   "cell_type": "code",
   "execution_count": 32,
   "metadata": {},
   "outputs": [
    {
     "name": "stdout",
     "output_type": "stream",
     "text": [
      "Before balance \n",
      "                  index\n",
      "level_0 label         \n",
      "test    bckg   1000000\n",
      "        pres    197107\n",
      "train   bckg   1000000\n",
      "        pres   1000000\n",
      "\n",
      "\n",
      "After balance \n",
      "                     index  patient\n",
      "train_test label                  \n",
      "test       bckg    197107   197107\n",
      "           pres    197107   197107\n",
      "train      bckg   1000000  1000000\n",
      "           pres   1000000  1000000\n"
     ]
    },
    {
     "data": {
      "image/png": "[encoded data removed]",
      "text/plain": [
       "<Figure size 432x288 with 1 Axes>"
      ]
     },
     "metadata": {
      "needs_background": "light"
     },
     "output_type": "display_data"
    }
   ],
   "source": [
    "print(\n",
    "    'Before balance \\n',\n",
    "    pd.concat(dataset)\n",
    "        .reset_index()\n",
    "        .set_index(['level_0'])\n",
    "        .assign(label = lambda x: setlabel(x.pres, x.post, len_pos=300, len_pre=600, sec_gap=300))\n",
    "        .loc[:,['label','index']]\n",
    "        .groupby(['level_0','label'])\n",
    "        .count()\n",
    ")\n",
    "\n",
    "def balance_df(df):\n",
    "    \"\"\"Credit=https://stackoverflow.com/a/45839920/13653455\"\"\"\n",
    "    g = df.groupby(['train_test','label'])\n",
    "    return g.apply(lambda x: x.sample(g.size().min(), weights=1/x['count']).reset_index(drop=True)).drop(['token','label'],axis=1)\n",
    "\n",
    "ds_balanced = pd.concat([\n",
    "        pd.concat(dataset, names=['train_test'])\n",
    "        .query(f\"train_test == '{g}'\")\n",
    "        .assign(label = lambda x: setlabel(x.pres, x.post, len_pos=300, len_pre=600, sec_gap=300))\n",
    "        .reset_index()\n",
    "        .merge(dirs, how='left')\n",
    "        .merge(patient_count.reset_index(name=\"count\").loc[:,['patient', 'count']], how='left')\n",
    "        .set_index(['train_test', 'level_1'])\n",
    "        .pipe(balance_df)\n",
    "\n",
    "        for g in ['train', 'test']\n",
    "    ])\n",
    "\n",
    "print(\"\\n\")\n",
    "print(\n",
    "    \"After balance \\n\",\n",
    "    \n",
    "    ds_balanced\n",
    "        .loc[:,['index', 'patient']]\n",
    "        .groupby(['train_test', 'label'])\n",
    "        .count()\n",
    ")\n",
    "_=(\n",
    "    ds_balanced\n",
    "        .loc[:,['index', 'patient']]\n",
    "        .groupby(['train_test', 'label', 'patient'])\n",
    "        .count().hist(bins=100)\n",
    ")\n",
    "_=plt.xlabel(\"# of tokens\")\n",
    "_=plt.ylabel(\"# of patients\")"
   ]
  },
  {
   "cell_type": "code",
   "execution_count": 34,
   "metadata": {},
   "outputs": [
    {
     "data": {
      "text/html": [
       "<div>\n",
       "<style scoped>\n",
       "    .dataframe tbody tr th:only-of-type {\n",
       "        vertical-align: middle;\n",
       "    }\n",
       "\n",
       "    .dataframe tbody tr th {\n",
       "        vertical-align: top;\n",
       "    }\n",
       "\n",
       "    .dataframe thead th {\n",
       "        text-align: right;\n",
       "    }\n",
       "</style>\n",
       "<table border=\"1\" class=\"dataframe\">\n",
       "  <thead>\n",
       "    <tr style=\"text-align: right;\">\n",
       "      <th></th>\n",
       "      <th>token</th>\n",
       "      <th>index</th>\n",
       "      <th>ch0</th>\n",
       "      <th>ch1</th>\n",
       "      <th>ch2</th>\n",
       "      <th>ch3</th>\n",
       "      <th>ch4</th>\n",
       "      <th>ch5</th>\n",
       "      <th>ch6</th>\n",
       "      <th>ch7</th>\n",
       "      <th>post</th>\n",
       "      <th>pres</th>\n",
       "    </tr>\n",
       "  </thead>\n",
       "  <tbody>\n",
       "    <tr>\n",
       "      <th>0</th>\n",
       "      <td>00000272_s008_t000</td>\n",
       "      <td>18861</td>\n",
       "      <td>10.677222</td>\n",
       "      <td>-6.066167</td>\n",
       "      <td>7.882854</td>\n",
       "      <td>-0.134612</td>\n",
       "      <td>4.325849</td>\n",
       "      <td>12.480474</td>\n",
       "      <td>2.885084</td>\n",
       "      <td>-0.729041</td>\n",
       "      <td>99999.0</td>\n",
       "      <td>99999.0</td>\n",
       "    </tr>\n",
       "    <tr>\n",
       "      <th>1</th>\n",
       "      <td>00000272_s008_t000</td>\n",
       "      <td>18862</td>\n",
       "      <td>10.419900</td>\n",
       "      <td>-6.127312</td>\n",
       "      <td>7.561907</td>\n",
       "      <td>-0.081029</td>\n",
       "      <td>2.249043</td>\n",
       "      <td>10.969098</td>\n",
       "      <td>2.678633</td>\n",
       "      <td>-0.473343</td>\n",
       "      <td>99999.0</td>\n",
       "      <td>99999.0</td>\n",
       "    </tr>\n",
       "    <tr>\n",
       "      <th>2</th>\n",
       "      <td>00000272_s008_t000</td>\n",
       "      <td>18863</td>\n",
       "      <td>9.482330</td>\n",
       "      <td>-6.045136</td>\n",
       "      <td>6.535001</td>\n",
       "      <td>-0.039715</td>\n",
       "      <td>-0.083146</td>\n",
       "      <td>9.352471</td>\n",
       "      <td>2.374690</td>\n",
       "      <td>-0.247618</td>\n",
       "      <td>99999.0</td>\n",
       "      <td>99999.0</td>\n",
       "    </tr>\n",
       "    <tr>\n",
       "      <th>3</th>\n",
       "      <td>00000272_s008_t000</td>\n",
       "      <td>18864</td>\n",
       "      <td>8.015557</td>\n",
       "      <td>-5.817713</td>\n",
       "      <td>4.987040</td>\n",
       "      <td>-0.009273</td>\n",
       "      <td>-2.568175</td>\n",
       "      <td>7.710565</td>\n",
       "      <td>2.046552</td>\n",
       "      <td>-0.051324</td>\n",
       "      <td>99999.0</td>\n",
       "      <td>99999.0</td>\n",
       "    </tr>\n",
       "    <tr>\n",
       "      <th>4</th>\n",
       "      <td>00000272_s008_t000</td>\n",
       "      <td>18865</td>\n",
       "      <td>6.229682</td>\n",
       "      <td>-5.450152</td>\n",
       "      <td>3.160334</td>\n",
       "      <td>0.011856</td>\n",
       "      <td>-5.070875</td>\n",
       "      <td>6.124346</td>\n",
       "      <td>1.771425</td>\n",
       "      <td>0.114168</td>\n",
       "      <td>99999.0</td>\n",
       "      <td>99999.0</td>\n",
       "    </tr>\n",
       "  </tbody>\n",
       "</table>\n",
       "</div>"
      ],
      "text/plain": [
       "                token  index        ch0       ch1       ch2       ch3  \\\n",
       "0  00000272_s008_t000  18861  10.677222 -6.066167  7.882854 -0.134612   \n",
       "1  00000272_s008_t000  18862  10.419900 -6.127312  7.561907 -0.081029   \n",
       "2  00000272_s008_t000  18863   9.482330 -6.045136  6.535001 -0.039715   \n",
       "3  00000272_s008_t000  18864   8.015557 -5.817713  4.987040 -0.009273   \n",
       "4  00000272_s008_t000  18865   6.229682 -5.450152  3.160334  0.011856   \n",
       "\n",
       "        ch4        ch5       ch6       ch7     post     pres  \n",
       "0  4.325849  12.480474  2.885084 -0.729041  99999.0  99999.0  \n",
       "1  2.249043  10.969098  2.678633 -0.473343  99999.0  99999.0  \n",
       "2 -0.083146   9.352471  2.374690 -0.247618  99999.0  99999.0  \n",
       "3 -2.568175   7.710565  2.046552 -0.051324  99999.0  99999.0  \n",
       "4 -5.070875   6.124346  1.771425  0.114168  99999.0  99999.0  "
      ]
     },
     "execution_count": 34,
     "metadata": {},
     "output_type": "execute_result"
    }
   ],
   "source": [
    "dataset['train'].sort_values(['token','index']).head()"
   ]
  },
  {
   "cell_type": "markdown",
   "metadata": {
    "colab_type": "text",
    "id": "jzcOwmchxeq0"
   },
   "source": [
    "# Training"
   ]
  },
  {
   "cell_type": "markdown",
   "metadata": {},
   "source": [
    "### Scaling\n",
    "\n",
    "After removing spikes, the majority of the features are within a range of -20 to 20 (micro Vol). Let's scale them by 1/50 and normalize them."
   ]
  },
  {
   "cell_type": "code",
   "execution_count": 121,
   "metadata": {
    "colab": {
     "base_uri": "https://localhost:8080/",
     "height": 265
    },
    "colab_type": "code",
    "id": "n3OW8aPasg5k",
    "outputId": "f5080a9b-5d82-4cb9-c97c-d16869d062c1"
   },
   "outputs": [
    {
     "data": {
      "image/png": "[encoded data removed]",
      "text/plain": [
       "<Figure size 432x288 with 1 Axes>"
      ]
     },
     "metadata": {
      "needs_background": "light"
     },
     "output_type": "display_data"
    },
    {
     "data": {
      "image/png": "[encoded data removed]",
      "text/plain": [
       "<Figure size 432x288 with 1 Axes>"
      ]
     },
     "metadata": {
      "needs_background": "light"
     },
     "output_type": "display_data"
    }
   ],
   "source": [
    "from sklearn import preprocessing\n",
    "scalers = preprocessing.StandardScaler()\n",
    "dataset['train'][['ch'+str(i) for i in range(0,7)]] = scalers.fit_transform(dataset['train'][['ch'+str(i) for i in range(0,7)]])\n",
    "dataset['test'][['ch'+str(i) for i in range(0,7)]] = scalers.transform(dataset['test'][['ch'+str(i) for i in range(0,7)]])\n",
    "_=plt.plot(scalers.scale_)\n",
    "_=plt.yscale('log')\n",
    "_=plt.ylabel('scale')\n",
    "_=plt.xlabel('feature (index)')\n",
    "_=plt.figure()\n",
    "_=plt.plot(scalers.mean_)\n",
    "_=plt.ylabel('mean')\n",
    "_=plt.xlabel('feature (index)')"
   ]
  },
  {
   "cell_type": "markdown",
   "metadata": {},
   "source": [
    "### Convert to 256 Hz"
   ]
  },
  {
   "cell_type": "code",
   "execution_count": 122,
   "metadata": {},
   "outputs": [
    {
     "data": {
      "text/plain": [
       "array([[1, 2, 3, 4]])"
      ]
     },
     "execution_count": 122,
     "metadata": {},
     "output_type": "execute_result"
    }
   ],
   "source": [
    "def chop_signal(long_vec, width=256, stepsize=64):\n",
    "    \"\"\"Chop a long long vector into 2D numpy array of width, consecutive rows will have certain overlap\n",
    "    \n",
    "    Args:\n",
    "        long_vec: long vector\n",
    "        width(int): width of the result. Must no greater than length of long_vec \n",
    "        overlap(int): Must less than width. \n",
    "    \"\"\"\n",
    "    if len(long_vec) < width + 1:\n",
    "        return np.array([])\n",
    "    long_vec = np.hstack([long_vec[i:i+width] for i in np.arange(0, len(long_vec)-width, stepsize)])\n",
    "    return np.reshape(long_vec[0:(len(long_vec)//width*width)], [-1, width])\n",
    "\n",
    "chop_signal([1, 2, 3, 4, 5], width=4, stepsize=2)"
   ]
  },
  {
   "cell_type": "code",
   "execution_count": 123,
   "metadata": {
    "scrolled": true
   },
   "outputs": [
    {
     "data": {
      "text/html": [
       "<div>\n",
       "<style scoped>\n",
       "    .dataframe tbody tr th:only-of-type {\n",
       "        vertical-align: middle;\n",
       "    }\n",
       "\n",
       "    .dataframe tbody tr th {\n",
       "        vertical-align: top;\n",
       "    }\n",
       "\n",
       "    .dataframe thead th {\n",
       "        text-align: right;\n",
       "    }\n",
       "</style>\n",
       "<table border=\"1\" class=\"dataframe\">\n",
       "  <thead>\n",
       "    <tr style=\"text-align: right;\">\n",
       "      <th></th>\n",
       "      <th>token</th>\n",
       "      <th>index</th>\n",
       "      <th>ch0</th>\n",
       "      <th>ch1</th>\n",
       "      <th>ch2</th>\n",
       "      <th>ch3</th>\n",
       "      <th>ch4</th>\n",
       "      <th>ch5</th>\n",
       "      <th>ch6</th>\n",
       "      <th>ch7</th>\n",
       "      <th>post</th>\n",
       "      <th>pres</th>\n",
       "    </tr>\n",
       "  </thead>\n",
       "  <tbody>\n",
       "    <tr>\n",
       "      <th>1999995</th>\n",
       "      <td>00013095_s001_t001</td>\n",
       "      <td>51713</td>\n",
       "      <td>-1.237283</td>\n",
       "      <td>-0.626019</td>\n",
       "      <td>-0.781764</td>\n",
       "      <td>-0.617996</td>\n",
       "      <td>-2.920426</td>\n",
       "      <td>-0.611279</td>\n",
       "      <td>-0.179264</td>\n",
       "      <td>2.629547</td>\n",
       "      <td>99999.0</td>\n",
       "      <td>300.019531</td>\n",
       "    </tr>\n",
       "    <tr>\n",
       "      <th>1999996</th>\n",
       "      <td>00013095_s001_t001</td>\n",
       "      <td>51714</td>\n",
       "      <td>-1.189601</td>\n",
       "      <td>-0.346392</td>\n",
       "      <td>-0.694781</td>\n",
       "      <td>-0.929344</td>\n",
       "      <td>-3.167448</td>\n",
       "      <td>-0.729362</td>\n",
       "      <td>-0.207865</td>\n",
       "      <td>3.249464</td>\n",
       "      <td>99999.0</td>\n",
       "      <td>300.015625</td>\n",
       "    </tr>\n",
       "    <tr>\n",
       "      <th>1999997</th>\n",
       "      <td>00013095_s001_t001</td>\n",
       "      <td>51715</td>\n",
       "      <td>-1.133537</td>\n",
       "      <td>-0.012338</td>\n",
       "      <td>-0.570440</td>\n",
       "      <td>-1.238498</td>\n",
       "      <td>-3.332084</td>\n",
       "      <td>-0.832942</td>\n",
       "      <td>-0.227244</td>\n",
       "      <td>3.877042</td>\n",
       "      <td>99999.0</td>\n",
       "      <td>300.011719</td>\n",
       "    </tr>\n",
       "    <tr>\n",
       "      <th>1999998</th>\n",
       "      <td>00013095_s001_t001</td>\n",
       "      <td>51716</td>\n",
       "      <td>-1.076370</td>\n",
       "      <td>0.365939</td>\n",
       "      <td>-0.419448</td>\n",
       "      <td>-1.528253</td>\n",
       "      <td>-3.409832</td>\n",
       "      <td>-0.912977</td>\n",
       "      <td>-0.236957</td>\n",
       "      <td>4.454287</td>\n",
       "      <td>99999.0</td>\n",
       "      <td>300.007812</td>\n",
       "    </tr>\n",
       "    <tr>\n",
       "      <th>1999999</th>\n",
       "      <td>00013095_s001_t001</td>\n",
       "      <td>51717</td>\n",
       "      <td>-1.025810</td>\n",
       "      <td>0.774743</td>\n",
       "      <td>-0.255645</td>\n",
       "      <td>-1.782458</td>\n",
       "      <td>-3.403461</td>\n",
       "      <td>-0.961724</td>\n",
       "      <td>-0.237403</td>\n",
       "      <td>4.924129</td>\n",
       "      <td>99999.0</td>\n",
       "      <td>300.003906</td>\n",
       "    </tr>\n",
       "  </tbody>\n",
       "</table>\n",
       "</div>"
      ],
      "text/plain": [
       "                      token  index       ch0       ch1       ch2       ch3  \\\n",
       "1999995  00013095_s001_t001  51713 -1.237283 -0.626019 -0.781764 -0.617996   \n",
       "1999996  00013095_s001_t001  51714 -1.189601 -0.346392 -0.694781 -0.929344   \n",
       "1999997  00013095_s001_t001  51715 -1.133537 -0.012338 -0.570440 -1.238498   \n",
       "1999998  00013095_s001_t001  51716 -1.076370  0.365939 -0.419448 -1.528253   \n",
       "1999999  00013095_s001_t001  51717 -1.025810  0.774743 -0.255645 -1.782458   \n",
       "\n",
       "              ch4       ch5       ch6       ch7     post        pres  \n",
       "1999995 -2.920426 -0.611279 -0.179264  2.629547  99999.0  300.019531  \n",
       "1999996 -3.167448 -0.729362 -0.207865  3.249464  99999.0  300.015625  \n",
       "1999997 -3.332084 -0.832942 -0.227244  3.877042  99999.0  300.011719  \n",
       "1999998 -3.409832 -0.912977 -0.236957  4.454287  99999.0  300.007812  \n",
       "1999999 -3.403461 -0.961724 -0.237403  4.924129  99999.0  300.003906  "
      ]
     },
     "execution_count": 123,
     "metadata": {},
     "output_type": "execute_result"
    }
   ],
   "source": [
    "df.tail()"
   ]
  },
  {
   "cell_type": "code",
   "execution_count": 163,
   "metadata": {},
   "outputs": [],
   "source": [
    "len_pos, len_pre, sec_gap = 300, 300, 600\n",
    "\n",
    "def get_dataset(df, len_pos=len_pos, len_pre=len_pre, sec_gap=sec_gap):\n",
    "    df = df\\\n",
    "    .assign(label = lambda x: setlabel(x.pres, x.post, len_pos=len_pos, len_pre=len_pre, sec_gap=sec_gap))\\\n",
    "    .loc[lambda df: \n",
    "         df.token.isin(\n",
    "             df\\\n",
    "                .groupby('token')\\\n",
    "                .count()\\\n",
    "                .reset_index()\\\n",
    "                .loc[lambda df: df['index'] > 256]\\\n",
    "                .loc[:, ['token']].to_numpy().flatten()\n",
    "         )]\\\n",
    "    .loc[:,['token', 'label', 'ch0']]\\\n",
    "    .groupby(['token', 'label'])\\\n",
    "    .apply(lambda df: pd.DataFrame(chop_signal(df['ch0'].to_numpy(), 256, 32)))\\\n",
    "    .reset_index()\n",
    "    return df.iloc[:, 3:259], df.iloc[:, 1]\n",
    "\n",
    "# dataset['train'].pipe(get_dataset, len_pos=300, len_pre=300, sec_gap=600)[0].head()\n",
    "# .loc[lambda df: df.groupby['token'].count().loc[:,'index']]\n",
    "\n",
    "# .iloc[label=='pres'].head()"
   ]
  },
  {
   "cell_type": "markdown",
   "metadata": {},
   "source": [
    "### Convert dataframe to numpy array"
   ]
  },
  {
   "cell_type": "code",
   "execution_count": 164,
   "metadata": {
    "colab": {},
    "colab_type": "code",
    "id": "iXo5nwW2en13"
   },
   "outputs": [
    {
     "name": "stdout",
     "output_type": "stream",
     "text": [
      "shape of train X = (62121, 256, 1), test X = (37293, 256, 1)\n"
     ]
    }
   ],
   "source": [
    "train_X, train_y = dataset['train'].head(10000000).pipe(get_dataset, len_pos=300, len_pre=300, sec_gap=600)\n",
    "test_X, test_y = dataset['test'].head(10000000).pipe(get_dataset, len_pos=300, len_pre=300, sec_gap=600)\n",
    "\n",
    "train_X, test_X = [x.to_numpy()[:, :, np.newaxis] for x in [train_X, test_X]]  # new feature axis\n",
    "train_y, test_y = [x.to_numpy() for x in [train_y, test_y]]\n",
    "\n",
    "# binarize\n",
    "test_y = np.array([int(y==LABEL_PRE) for y in test_y])[:,np.newaxis]\n",
    "train_y = np.array([int(y==LABEL_PRE) for y in train_y])[:,np.newaxis]\n",
    "\n",
    "print(f'shape of train X = {train_X.shape}, test X = {test_X.shape}')"
   ]
  },
  {
   "cell_type": "code",
   "execution_count": 165,
   "metadata": {
    "colab": {
     "base_uri": "https://localhost:8080/",
     "height": 119
    },
    "colab_type": "code",
    "id": "wCcnuXQRkaeT",
    "outputId": "60f2b603-e877-41d6-db2a-092eaeef17d1"
   },
   "outputs": [
    {
     "data": {
      "image/png": "[encoded data removed]",
      "text/plain": [
       "<Figure size 432x288 with 1 Axes>"
      ]
     },
     "metadata": {
      "needs_background": "light"
     },
     "output_type": "display_data"
    }
   ],
   "source": [
    "# sample some X to examine\n",
    "nplot=min(100, train_X.shape[0])\n",
    "np.random.seed(0)\n",
    "choices = np.random.choice(train_X.shape[0], nplot, replace=False)\n",
    "\n",
    "# print(\"data contain a lot of spikes\")\n",
    "# np.histogram(train_X[1:1000,:].flatten())\n",
    "# for features,label in train_ds.batch(1).take(10):\n",
    "#   print(np.histogram(features.numpy().flatten()))\n",
    "_ = plt.hist(train_X[choices,:].flatten(), bins = 101)"
   ]
  },
  {
   "cell_type": "markdown",
   "metadata": {},
   "source": [
    "### Median Filter"
   ]
  },
  {
   "cell_type": "code",
   "execution_count": 166,
   "metadata": {
    "colab": {
     "base_uri": "https://localhost:8080/",
     "height": 350
    },
    "colab_type": "code",
    "id": "u1Yi3SPEpAY-",
    "outputId": "135f50b3-48cc-4729-cf06-bb41581aa750"
   },
   "outputs": [
    {
     "name": "stdout",
     "output_type": "stream",
     "text": [
      "Thrd = 200000\n"
     ]
    },
    {
     "data": {
      "image/png": "[encoded data removed]",
      "text/plain": [
       "<Figure size 720x144 with 2 Axes>"
      ]
     },
     "metadata": {
      "needs_background": "light"
     },
     "output_type": "display_data"
    }
   ],
   "source": [
    "def get_median_filtered(signal, threshold=100):\n",
    "    \"\"\"By Bugra\"\"\"\n",
    "    signal = signal.copy()\n",
    "    difference = np.abs(signal - np.median(signal))\n",
    "    median_difference = np.median(difference)\n",
    "    if median_difference == 0:\n",
    "        s = 0\n",
    "    else:\n",
    "        s = difference / float(median_difference)\n",
    "    mask = s > threshold\n",
    "    signal[mask] = np.median(signal)\n",
    "    # if over 10% of data are spikes. return zeros\n",
    "    if type(mask) is not bool and np.sum(mask) > 0.1 * len(mask):\n",
    "        return np.zeros(signal.shape)\n",
    "    return signal\n",
    "\n",
    "def median_filter(train_X, test_X, thrd):\n",
    "    train_X = np.array([get_median_filtered(signal, thrd) for signal in train_X])\n",
    "    test_X = np.array([get_median_filtered(signal, thrd) for signal in test_X])\n",
    "    return train_X, test_X\n",
    "\n",
    "def find_best_threshold():\n",
    "    thrd = 200000\n",
    "    newX = np.array([get_median_filtered(signal, thrd) for signal in train_X[choices,:]])\n",
    "    print(f\"Thrd = {thrd}\")\n",
    "    _, axs = plt.subplots(1,2,figsize=[10,2])\n",
    "    for signal in newX:\n",
    "        axs[0].plot(signal)\n",
    "    _ = axs[1].hist(newX.flatten(), bins = 101, range=[-10,10])\n",
    "    return thrd\n",
    "    \n",
    "thrd = find_best_threshold()"
   ]
  },
  {
   "cell_type": "markdown",
   "metadata": {
    "colab_type": "text",
    "id": "9cPNMSGJxc5r"
   },
   "source": [
    "### Drop out weak channels "
   ]
  },
  {
   "cell_type": "code",
   "execution_count": 167,
   "metadata": {
    "colab": {},
    "colab_type": "code",
    "id": "KKncwTuExbdc"
   },
   "outputs": [
    {
     "data": {
      "image/png": "[encoded data removed]",
      "text/plain": [
       "<Figure size 1080x288 with 6 Axes>"
      ]
     },
     "metadata": {
      "needs_background": "light"
     },
     "output_type": "display_data"
    }
   ],
   "source": [
    "def dropout_weak_channels(train_X, train_y, threshold=1e-3):\n",
    "    masks = [i for i, signal in enumerate(train_X) if np.sum(np.abs(signal))>threshold]\n",
    "    train_X = train_X[masks, :, :]\n",
    "    train_y = train_y[masks, :]\n",
    "    return train_X, train_y\n",
    "\n",
    "def find_best_threshold(train_X):\n",
    "    _, axes = plt.subplots(2, 3, figsize=[15,4])\n",
    "    for i, scale in enumerate([100, 10, 1]):\n",
    "        ax = axes[0][i]\n",
    "        tmp, _ = dropout_weak_channels(train_X, train_X[:,:,0], threshold=scale)\n",
    "        for signal in tmp:\n",
    "            ax.plot(signal)\n",
    "            ax.title.set_text(f\"thrd = {scale}\")\n",
    "        axes[1][i].hist(tmp.flatten(), bins = 101, range=[-4,4])\n",
    "\n",
    "\n",
    "X, _ = median_filter(train_X[choices,:], train_X[choices,:], thrd=20000)\n",
    "X, _ = dropout_weak_channels(X, X[:,:,0], threshold=100)\n",
    "find_best_threshold(X)"
   ]
  },
  {
   "cell_type": "code",
   "execution_count": 168,
   "metadata": {
    "colab": {
     "base_uri": "https://localhost:8080/",
     "height": 119
    },
    "colab_type": "code",
    "id": "vzYyGGVZv7HI",
    "outputId": "c9fcbd34-fe9b-493f-cd25-7f7bc6709225"
   },
   "outputs": [
    {
     "name": "stdout",
     "output_type": "stream",
     "text": [
      "X shape = (samples, timesteps, nfeatures)\n",
      "y shape = (samples, nfeatures)\n",
      "\n",
      "Before processing\n",
      "shape trainX:(62121, 256, 1)\n",
      "shape trainy:(62121, 1)\n",
      "shape testX:(37293, 256, 1)\n",
      "shape testy:(37293, 1)\n",
      "After processing\n",
      "shape trainX:(40948, 256, 1)\n",
      "shape trainy:(40948, 1)\n",
      "shape testX:(16483, 256, 1)\n",
      "shape testy:(16483, 1)\n"
     ]
    }
   ],
   "source": [
    "print(\"X shape = (samples, timesteps, nfeatures)\")\n",
    "print(\"y shape = (samples, nfeatures)\")\n",
    "print(\"\")\n",
    "print(\"Before processing\")\n",
    "print(f\"shape trainX:{train_X.shape}\")\n",
    "print(f\"shape trainy:{train_y.shape}\")\n",
    "print(f\"shape testX:{test_X.shape}\")\n",
    "print(f\"shape testy:{test_y.shape}\")\n",
    "train_X, test_X = median_filter(train_X, test_X, thrd=20000)\n",
    "train_X, train_y = dropout_weak_channels(train_X, train_y, threshold=100)\n",
    "test_X, test_y = dropout_weak_channels(test_X, test_y, threshold=100)\n",
    "print(\"After processing\")\n",
    "print(f\"shape trainX:{train_X.shape}\")\n",
    "print(f\"shape trainy:{train_y.shape}\")\n",
    "print(f\"shape testX:{test_X.shape}\")\n",
    "print(f\"shape testy:{test_y.shape}\")"
   ]
  },
  {
   "cell_type": "code",
   "execution_count": 169,
   "metadata": {
    "colab": {
     "base_uri": "https://localhost:8080/",
     "height": 111
    },
    "colab_type": "code",
    "id": "mICOI7eqD-7g",
    "outputId": "25c9628d-419e-45f6-bf99-6b5623eb4dc7"
   },
   "outputs": [],
   "source": [
    "# pd.DataFrame({\n",
    "#     'train': pd.Series(train_y.squeeze()).value_counts(),\n",
    "#     'test': pd.Series(test_y.squeeze()).value_counts()\n",
    "# })"
   ]
  },
  {
   "cell_type": "markdown",
   "metadata": {
    "colab_type": "text",
    "id": "OzHqQXeYFLBj"
   },
   "source": [
    "### Check data balance"
   ]
  },
  {
   "cell_type": "code",
   "execution_count": 170,
   "metadata": {},
   "outputs": [
    {
     "name": "stdout",
     "output_type": "stream",
     "text": [
      "Resampled dataset shape Counter({0: 2061, 1: 2061})\n"
     ]
    }
   ],
   "source": [
    "from collections import Counter\n",
    "from imblearn.under_sampling import RandomUnderSampler \n",
    "def balance(train_X, train_y):\n",
    "    np.random.seed(42)\n",
    "    nchoices = np.random.choice(range(0, Counter(train_y.squeeze())[0]), Counter(train_y.squeeze())[1], replace=False)\n",
    "    X1, X2 = train_X[train_y.squeeze()==0,:], train_X[train_y.squeeze()==1,:]\n",
    "    train_X = np.concatenate([X1[nchoices, :], X2])\n",
    "    train_y = np.concatenate([train_y[train_y.squeeze()==0][nchoices], train_y[train_y.squeeze()==1]])\n",
    "    return train_X, train_y\n",
    "X_res, y_res = balance(train_X, train_y)\n",
    "print('Resampled dataset shape %s' % Counter(y_res.squeeze()))"
   ]
  },
  {
   "cell_type": "code",
   "execution_count": 171,
   "metadata": {
    "scrolled": true
   },
   "outputs": [
    {
     "data": {
      "image/png": "[encoded data removed]",
      "text/plain": [
       "<Figure size 360x144 with 2 Axes>"
      ]
     },
     "metadata": {
      "needs_background": "light"
     },
     "output_type": "display_data"
    }
   ],
   "source": [
    "train_X, train_y = X_res, y_res\n",
    "_, axes = plt.subplots(1, 2, figsize = [5,2])\n",
    "_ = axes[0].hist(train_X[np.random.choice(range(0,len(train_X)),100), :].flatten(), bins=101)\n",
    "_ = axes[1].hist(np.random.choice(train_y.squeeze(), 100).flatten())"
   ]
  },
  {
   "cell_type": "markdown",
   "metadata": {
    "colab_type": "text",
    "id": "yX0cLfcHv3rQ"
   },
   "source": [
    "## Modeling"
   ]
  },
  {
   "cell_type": "markdown",
   "metadata": {},
   "source": [
    "Try Random Forest Classifier first"
   ]
  },
  {
   "cell_type": "code",
   "execution_count": 172,
   "metadata": {},
   "outputs": [
    {
     "data": {
      "text/plain": [
       "{'fit_time': array([0.323807  , 0.646667  , 0.54596138, 0.30171585, 0.33038712]),\n",
       " 'score_time': array([0.01937222, 0.06346512, 0.02068996, 0.01609135, 0.01764083]),\n",
       " 'test_score': array([0.61575758, 0.61212121, 0.6407767 , 0.63228155, 0.64805825])}"
      ]
     },
     "execution_count": 172,
     "metadata": {},
     "output_type": "execute_result"
    }
   ],
   "source": [
    "from sklearn.ensemble import RandomForestClassifier\n",
    "from sklearn.datasets import make_classification\n",
    "from sklearn.model_selection import cross_validate\n",
    "from scipy.fft import fft\n",
    "\n",
    "# Shuffling dataset\n",
    "shuffle = np.random.permutation(len(train_X))\n",
    "\n",
    "clf = RandomForestClassifier(max_depth=3, random_state=0)\n",
    "cross_validate(\n",
    "    clf, \n",
    "    np.array(\n",
    "       [\n",
    "           [\n",
    "               np.mean(np.abs(fft(x))), \n",
    "               np.mean(np.abs(fft(x))*np.arange(0,len(x)))\n",
    "           ] \n",
    "           for x in train_X[shuffle].squeeze()\n",
    "       ]\n",
    "    ), \n",
    "    train_y[shuffle].squeeze(), \n",
    "    cv=5\n",
    ")"
   ]
  },
  {
   "cell_type": "code",
   "execution_count": 176,
   "metadata": {
    "colab": {
     "base_uri": "https://localhost:8080/",
     "height": 428
    },
    "colab_type": "code",
    "id": "YDdfzg74FRLN",
    "outputId": "c0f76e23-e936-446e-bfd5-55bf3c70028e"
   },
   "outputs": [
    {
     "name": "stdout",
     "output_type": "stream",
     "text": [
      "Model: \"sequential_5\"\n",
      "_________________________________________________________________\n",
      "Layer (type)                 Output Shape              Param #   \n",
      "=================================================================\n",
      "LSTM-1 (LSTM)                (None, 256, 4)            96        \n",
      "_________________________________________________________________\n",
      "Dropout-1 (Dropout)          (None, 256, 4)            0         \n",
      "_________________________________________________________________\n",
      "batch_normalization_8 (Batch (None, 256, 4)            16        \n",
      "_________________________________________________________________\n",
      "LSTM-2 (LSTM)                (None, 2)                 56        \n",
      "_________________________________________________________________\n",
      "Dropout-2 (Dropout)          (None, 2)                 0         \n",
      "_________________________________________________________________\n",
      "batch_normalization_9 (Batch (None, 2)                 8         \n",
      "_________________________________________________________________\n",
      "Dense-3 (Dense)              (None, 1)                 3         \n",
      "=================================================================\n",
      "Total params: 179\n",
      "Trainable params: 167\n",
      "Non-trainable params: 12\n",
      "_________________________________________________________________\n",
      "None\n",
      "start training\n",
      "Epoch 1/20\n",
      "7/7 [==============================] - 3s 393ms/step - loss: 1.0690 - accuracy: 0.5108 - val_loss: 0.9606 - val_accuracy: 0.0000e+00\n",
      "Epoch 2/20\n",
      "7/7 [==============================] - 2s 344ms/step - loss: 1.0670 - accuracy: 0.4956 - val_loss: 0.9647 - val_accuracy: 0.0000e+00\n",
      "Epoch 3/20\n",
      "7/7 [==============================] - 2s 294ms/step - loss: 1.0678 - accuracy: 0.5080 - val_loss: 0.9688 - val_accuracy: 0.0000e+00\n",
      "Epoch 4/20\n",
      "7/7 [==============================] - 2s 295ms/step - loss: 1.0546 - accuracy: 0.4953 - val_loss: 0.9732 - val_accuracy: 0.0000e+00\n",
      "Epoch 5/20\n",
      "7/7 [==============================] - 2s 283ms/step - loss: 1.0283 - accuracy: 0.5174 - val_loss: 0.9777 - val_accuracy: 0.0000e+00\n",
      "Epoch 6/20\n",
      "7/7 [==============================] - 2s 274ms/step - loss: 1.0448 - accuracy: 0.5020 - val_loss: 0.9816 - val_accuracy: 0.0000e+00\n",
      "Epoch 7/20\n",
      "7/7 [==============================] - 2s 285ms/step - loss: 1.0138 - accuracy: 0.5062 - val_loss: 0.9854 - val_accuracy: 0.0000e+00\n",
      "Epoch 8/20\n",
      "7/7 [==============================] - 2s 280ms/step - loss: 1.0091 - accuracy: 0.5047 - val_loss: 0.9893 - val_accuracy: 0.0000e+00\n",
      "Epoch 9/20\n",
      "7/7 [==============================] - 2s 285ms/step - loss: 0.9949 - accuracy: 0.5123 - val_loss: 0.9921 - val_accuracy: 0.0000e+00\n",
      "Epoch 10/20\n",
      "7/7 [==============================] - 2s 292ms/step - loss: 0.9846 - accuracy: 0.5262 - val_loss: 0.9950 - val_accuracy: 0.0000e+00\n",
      "Epoch 11/20\n",
      "7/7 [==============================] - 2s 326ms/step - loss: 0.9710 - accuracy: 0.5323 - val_loss: 0.9983 - val_accuracy: 0.0000e+00\n",
      "Epoch 12/20\n",
      "7/7 [==============================] - 2s 326ms/step - loss: 0.9653 - accuracy: 0.5296 - val_loss: 1.0018 - val_accuracy: 0.0000e+00\n",
      "Epoch 13/20\n",
      "7/7 [==============================] - 2s 274ms/step - loss: 0.9677 - accuracy: 0.5193 - val_loss: 1.0049 - val_accuracy: 0.0000e+00\n",
      "Epoch 14/20\n",
      "7/7 [==============================] - 2s 278ms/step - loss: 0.9381 - accuracy: 0.5296 - val_loss: 1.0080 - val_accuracy: 0.0000e+00\n",
      "Epoch 15/20\n",
      "7/7 [==============================] - 2s 276ms/step - loss: 0.9493 - accuracy: 0.5278 - val_loss: 1.0112 - val_accuracy: 0.0000e+00\n",
      "Epoch 16/20\n",
      "7/7 [==============================] - 2s 278ms/step - loss: 0.9541 - accuracy: 0.5132 - val_loss: 1.0136 - val_accuracy: 0.0000e+00\n",
      "Epoch 17/20\n",
      "7/7 [==============================] - 3s 389ms/step - loss: 0.9465 - accuracy: 0.5241 - val_loss: 1.0152 - val_accuracy: 0.0000e+00\n",
      "Epoch 18/20\n",
      "7/7 [==============================] - 2s 353ms/step - loss: 0.9125 - accuracy: 0.5365 - val_loss: 1.0172 - val_accuracy: 0.0000e+00\n",
      "Epoch 19/20\n",
      "7/7 [==============================] - 2s 289ms/step - loss: 0.9028 - accuracy: 0.5414 - val_loss: 1.0186 - val_accuracy: 0.0000e+00\n",
      "Epoch 20/20\n",
      "7/7 [==============================] - 2s 283ms/step - loss: 0.9000 - accuracy: 0.5308 - val_loss: 1.0207 - val_accuracy: 0.0000e+00\n"
     ]
    }
   ],
   "source": [
    "from keras.models import Sequential\n",
    "from keras.layers import Input, LSTM, Dense, Dropout, Bidirectional, BatchNormalization\n",
    "\n",
    "np.random.seed(0)\n",
    "\n",
    "model = Sequential()\n",
    "\n",
    "# model.add(Input(shape=(256,1), name='Input'))\n",
    "# model.add(Dense(10, activation='relu', name='Dense-1'))\n",
    "\n",
    "model.add(LSTM(4, activation='sigmoid', return_sequences=True, kernel_regularizer=\"l1\", name='LSTM-1', input_shape=(256,1)))\n",
    "model.add(Dropout(0.25, name='Dropout-1'))\n",
    "model.add(BatchNormalization())\n",
    "\n",
    "model.add(LSTM(2, activation='sigmoid', return_sequences=False, kernel_regularizer=\"l1\", name='LSTM-2'))\n",
    "model.add(Dropout(0.25, name='Dropout-2'))\n",
    "model.add(BatchNormalization())\n",
    "\n",
    "model.add(Dense(1, activation='sigmoid', kernel_regularizer='l1', name='Dense-3'))\n",
    "\n",
    "model.compile(loss='binary_crossentropy', optimizer='adam', metrics=['acc'])\n",
    "\n",
    "print(model.summary())\n",
    "\n",
    "print('start training')\n",
    "history = model.fit(\n",
    "        train_X, \n",
    "        train_y,\n",
    "        validation_split=0.2, \n",
    "        batch_size=500, \n",
    "        epochs=20,\n",
    "        verbose=1\n",
    "    )"
   ]
  },
  {
   "cell_type": "code",
   "execution_count": 178,
   "metadata": {},
   "outputs": [
    {
     "name": "stdout",
     "output_type": "stream",
     "text": [
      "dict_keys(['loss', 'accuracy', 'val_loss', 'val_accuracy'])\n"
     ]
    },
    {
     "data": {
      "image/png": "[encoded data removed]",
      "text/plain": [
       "<Figure size 288x216 with 1 Axes>"
      ]
     },
     "metadata": {
      "needs_background": "light"
     },
     "output_type": "display_data"
    },
    {
     "data": {
      "image/png": "[encoded data removed]",
      "text/plain": [
       "<Figure size 288x216 with 1 Axes>"
      ]
     },
     "metadata": {
      "needs_background": "light"
     },
     "output_type": "display_data"
    }
   ],
   "source": [
    "def plot_history(history):\n",
    "    \"\"\"Credit=https://stackoverflow.com/q/41908379/13653455\"\"\"\n",
    "    print(history.history.keys())\n",
    "    #  \"Accuracy\"\n",
    "    plt.figure(figsize=[4,3])\n",
    "    plt.plot(history.history['acc'])\n",
    "    plt.plot(history.history['val_acc'])\n",
    "    plt.title('model accuracy')\n",
    "    plt.ylabel('accuracy')\n",
    "    plt.xlabel('epoch')\n",
    "    plt.legend(['train', 'validation'], loc='lower right')\n",
    "    plt.show()\n",
    "    # \"Loss\"\n",
    "    plt.figure(figsize=[4,3])\n",
    "    plt.plot(history.history['loss'])\n",
    "    plt.plot(history.history['val_loss'])\n",
    "    plt.title('model loss')\n",
    "    plt.ylabel('loss')\n",
    "    plt.yscale('log')\n",
    "    plt.xlabel('epoch')\n",
    "    plt.legend(['train', 'validation'], loc='upper right')\n",
    "    plt.show()\n",
    "    \n",
    "plot_history(history)"
   ]
  },
  {
   "cell_type": "code",
   "execution_count": 273,
   "metadata": {
    "colab": {},
    "colab_type": "code",
    "id": "jNFf-hFnRVLI"
   },
   "outputs": [
    {
     "name": "stderr",
     "output_type": "stream",
     "text": [
      "/Users/yanxlin/opt/anaconda3/envs/insight/lib/python3.7/site-packages/sklearn/metrics/_ranking.py:808: UndefinedMetricWarning: No positive samples in y_true, true positive value should be meaningless\n",
      "  UndefinedMetricWarning)\n"
     ]
    },
    {
     "data": {
      "text/plain": [
       "[<matplotlib.lines.Line2D at 0x1a4c8c8d90>]"
      ]
     },
     "execution_count": 273,
     "metadata": {},
     "output_type": "execute_result"
    },
    {
     "data": {
      "image/png": "[encoded data removed]",
      "text/plain": [
       "<Figure size 432x288 with 1 Axes>"
      ]
     },
     "metadata": {
      "needs_background": "light"
     },
     "output_type": "display_data"
    }
   ],
   "source": [
    "# Compare ROC curve\n",
    "from sklearn.metrics import roc_curve\n",
    "\n",
    "fpr_keras, tpr_keras, thresholds_keras = roc_curve(test_y, model.predict(test_X).ravel())\n",
    "\n",
    "plt.plot(fpr_keras, tpr_keras)"
   ]
  }
 ],
 "metadata": {
  "colab": {
   "collapsed_sections": [],
   "name": "Seizure-Forecasting-LSTM",
   "provenance": []
  },
  "kernelspec": {
   "display_name": "Python 3",
   "language": "python",
   "name": "python3"
  },
  "language_info": {
   "codemirror_mode": {
    "name": "ipython",
    "version": 3
   },
   "file_extension": ".py",
   "mimetype": "text/x-python",
   "name": "python",
   "nbconvert_exporter": "python",
   "pygments_lexer": "ipython3",
   "version": "3.7.7"
  }
 },
 "nbformat": 4,
 "nbformat_minor": 1
}
